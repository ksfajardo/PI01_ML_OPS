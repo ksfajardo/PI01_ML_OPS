{
 "cells": [
  {
   "attachments": {},
   "cell_type": "markdown",
   "metadata": {},
   "source": [
    "# RECOMMENDATION SYSTEM"
   ]
  },
  {
   "attachments": {},
   "cell_type": "markdown",
   "metadata": {},
   "source": [
    "Discalimer: I am making this recommendation system as if I was the target audience, so I am going to focus on what I would like a movie recommendation to be based of with the limited information I have. I would be happier with this dataset if it at least included a column with the name of the film's director or the cast.\n",
    "\n"
   ]
  },
  {
   "attachments": {},
   "cell_type": "markdown",
   "metadata": {},
   "source": [
    "So, I am going to pre-process some of the data to make it more readable for the model and then I am going to train it."
   ]
  },
  {
   "attachments": {},
   "cell_type": "markdown",
   "metadata": {},
   "source": [
    "First, I am importing the libraries I will use and importing the DataFrame"
   ]
  },
  {
   "cell_type": "code",
   "execution_count": 1,
   "metadata": {},
   "outputs": [],
   "source": [
    "import pandas as pd\n",
    "import numpy as np\n",
    "from rake_nltk import Rake\n",
    "from sklearn.metrics.pairwise import cosine_similarity\n",
    "from sklearn.feature_extraction.text import CountVectorizer"
   ]
  },
  {
   "cell_type": "code",
   "execution_count": 2,
   "metadata": {},
   "outputs": [],
   "source": [
    "df=pd.read_csv('Datasets\\Movies_ETL_EDA.csv', index_col=0)"
   ]
  },
  {
   "cell_type": "code",
   "execution_count": 3,
   "metadata": {},
   "outputs": [
    {
     "data": {
      "text/plain": [
       "(44373, 12)"
      ]
     },
     "execution_count": 3,
     "metadata": {},
     "output_type": "execute_result"
    }
   ],
   "source": [
    "df.shape"
   ]
  },
  {
   "cell_type": "code",
   "execution_count": 4,
   "metadata": {},
   "outputs": [
    {
     "data": {
      "text/html": [
       "<div>\n",
       "<style scoped>\n",
       "    .dataframe tbody tr th:only-of-type {\n",
       "        vertical-align: middle;\n",
       "    }\n",
       "\n",
       "    .dataframe tbody tr th {\n",
       "        vertical-align: top;\n",
       "    }\n",
       "\n",
       "    .dataframe thead th {\n",
       "        text-align: right;\n",
       "    }\n",
       "</style>\n",
       "<table border=\"1\" class=\"dataframe\">\n",
       "  <thead>\n",
       "    <tr style=\"text-align: right;\">\n",
       "      <th></th>\n",
       "      <th>budget</th>\n",
       "      <th>id</th>\n",
       "      <th>overview</th>\n",
       "      <th>release_date</th>\n",
       "      <th>revenue</th>\n",
       "      <th>title</th>\n",
       "      <th>release_year</th>\n",
       "      <th>return</th>\n",
       "      <th>collection_name</th>\n",
       "      <th>genres_name</th>\n",
       "      <th>pcompany_name</th>\n",
       "      <th>pcountry_name</th>\n",
       "    </tr>\n",
       "  </thead>\n",
       "  <tbody>\n",
       "    <tr>\n",
       "      <th>0</th>\n",
       "      <td>30000000.0</td>\n",
       "      <td>862</td>\n",
       "      <td>Led by Woody, Andy's toys live happily in his ...</td>\n",
       "      <td>1995-10-30</td>\n",
       "      <td>373554033.0</td>\n",
       "      <td>Toy Story</td>\n",
       "      <td>1995</td>\n",
       "      <td>12.451801</td>\n",
       "      <td>Toy Story Collection</td>\n",
       "      <td>['Animation', 'Comedy', 'Family']</td>\n",
       "      <td>['Pixar Animation Studios']</td>\n",
       "      <td>['United States of America']</td>\n",
       "    </tr>\n",
       "    <tr>\n",
       "      <th>1</th>\n",
       "      <td>65000000.0</td>\n",
       "      <td>8844</td>\n",
       "      <td>When siblings Judy and Peter discover an encha...</td>\n",
       "      <td>1995-12-15</td>\n",
       "      <td>262797249.0</td>\n",
       "      <td>Jumanji</td>\n",
       "      <td>1995</td>\n",
       "      <td>4.043035</td>\n",
       "      <td>NaN</td>\n",
       "      <td>['Adventure', 'Fantasy', 'Family']</td>\n",
       "      <td>['TriStar Pictures', 'Teitler Film', 'Intersco...</td>\n",
       "      <td>['United States of America']</td>\n",
       "    </tr>\n",
       "    <tr>\n",
       "      <th>2</th>\n",
       "      <td>0.0</td>\n",
       "      <td>15602</td>\n",
       "      <td>A family wedding reignites the ancient feud be...</td>\n",
       "      <td>1995-12-22</td>\n",
       "      <td>0.0</td>\n",
       "      <td>Grumpier Old Men</td>\n",
       "      <td>1995</td>\n",
       "      <td>0.000000</td>\n",
       "      <td>Grumpy Old Men Collection</td>\n",
       "      <td>['Romance', 'Comedy']</td>\n",
       "      <td>['Warner Bros.', 'Lancaster Gate']</td>\n",
       "      <td>['United States of America']</td>\n",
       "    </tr>\n",
       "    <tr>\n",
       "      <th>3</th>\n",
       "      <td>16000000.0</td>\n",
       "      <td>31357</td>\n",
       "      <td>Cheated on, mistreated and stepped on, the wom...</td>\n",
       "      <td>1995-12-22</td>\n",
       "      <td>81452156.0</td>\n",
       "      <td>Waiting to Exhale</td>\n",
       "      <td>1995</td>\n",
       "      <td>5.090760</td>\n",
       "      <td>NaN</td>\n",
       "      <td>['Comedy', 'Drama', 'Romance']</td>\n",
       "      <td>['Twentieth Century Fox Film Corporation']</td>\n",
       "      <td>['United States of America']</td>\n",
       "    </tr>\n",
       "    <tr>\n",
       "      <th>4</th>\n",
       "      <td>0.0</td>\n",
       "      <td>11862</td>\n",
       "      <td>Just when George Banks has recovered from his ...</td>\n",
       "      <td>1995-02-10</td>\n",
       "      <td>76578911.0</td>\n",
       "      <td>Father of the Bride Part II</td>\n",
       "      <td>1995</td>\n",
       "      <td>0.000000</td>\n",
       "      <td>Father of the Bride Collection</td>\n",
       "      <td>['Comedy']</td>\n",
       "      <td>['Sandollar Productions', 'Touchstone Pictures']</td>\n",
       "      <td>['United States of America']</td>\n",
       "    </tr>\n",
       "  </tbody>\n",
       "</table>\n",
       "</div>"
      ],
      "text/plain": [
       "       budget     id                                           overview  \\\n",
       "0  30000000.0    862  Led by Woody, Andy's toys live happily in his ...   \n",
       "1  65000000.0   8844  When siblings Judy and Peter discover an encha...   \n",
       "2         0.0  15602  A family wedding reignites the ancient feud be...   \n",
       "3  16000000.0  31357  Cheated on, mistreated and stepped on, the wom...   \n",
       "4         0.0  11862  Just when George Banks has recovered from his ...   \n",
       "\n",
       "  release_date      revenue                        title  release_year  \\\n",
       "0   1995-10-30  373554033.0                    Toy Story          1995   \n",
       "1   1995-12-15  262797249.0                      Jumanji          1995   \n",
       "2   1995-12-22          0.0             Grumpier Old Men          1995   \n",
       "3   1995-12-22   81452156.0            Waiting to Exhale          1995   \n",
       "4   1995-02-10   76578911.0  Father of the Bride Part II          1995   \n",
       "\n",
       "      return                 collection_name  \\\n",
       "0  12.451801            Toy Story Collection   \n",
       "1   4.043035                             NaN   \n",
       "2   0.000000       Grumpy Old Men Collection   \n",
       "3   5.090760                             NaN   \n",
       "4   0.000000  Father of the Bride Collection   \n",
       "\n",
       "                          genres_name  \\\n",
       "0   ['Animation', 'Comedy', 'Family']   \n",
       "1  ['Adventure', 'Fantasy', 'Family']   \n",
       "2               ['Romance', 'Comedy']   \n",
       "3      ['Comedy', 'Drama', 'Romance']   \n",
       "4                          ['Comedy']   \n",
       "\n",
       "                                       pcompany_name  \\\n",
       "0                        ['Pixar Animation Studios']   \n",
       "1  ['TriStar Pictures', 'Teitler Film', 'Intersco...   \n",
       "2                 ['Warner Bros.', 'Lancaster Gate']   \n",
       "3         ['Twentieth Century Fox Film Corporation']   \n",
       "4   ['Sandollar Productions', 'Touchstone Pictures']   \n",
       "\n",
       "                  pcountry_name  \n",
       "0  ['United States of America']  \n",
       "1  ['United States of America']  \n",
       "2  ['United States of America']  \n",
       "3  ['United States of America']  \n",
       "4  ['United States of America']  "
      ]
     },
     "execution_count": 4,
     "metadata": {},
     "output_type": "execute_result"
    }
   ],
   "source": [
    "df.head()"
   ]
  },
  {
   "attachments": {},
   "cell_type": "markdown",
   "metadata": {},
   "source": [
    "I know some film titles appear more than once because they are remakes of the same plot, I am going to drop those since this model is not really considering the release date of the movies, this is just taking more space. "
   ]
  },
  {
   "cell_type": "code",
   "execution_count": 5,
   "metadata": {},
   "outputs": [
    {
     "data": {
      "text/plain": [
       "(41278, 12)"
      ]
     },
     "execution_count": 5,
     "metadata": {},
     "output_type": "execute_result"
    }
   ],
   "source": [
    "df.drop_duplicates(subset=['title'],inplace=True)\n",
    "df=df.reset_index(drop=True)\n",
    "df.shape"
   ]
  },
  {
   "attachments": {},
   "cell_type": "markdown",
   "metadata": {},
   "source": [
    "The only columns I am going to use for the model are overview, title and genres_name because I feel like they have enough information so that I can make a decent recommendation but not so much that is redundant."
   ]
  },
  {
   "cell_type": "code",
   "execution_count": 6,
   "metadata": {},
   "outputs": [],
   "source": [
    "model_data=df[['title','overview','genres_name']]"
   ]
  },
  {
   "cell_type": "code",
   "execution_count": 7,
   "metadata": {},
   "outputs": [
    {
     "data": {
      "text/html": [
       "<div>\n",
       "<style scoped>\n",
       "    .dataframe tbody tr th:only-of-type {\n",
       "        vertical-align: middle;\n",
       "    }\n",
       "\n",
       "    .dataframe tbody tr th {\n",
       "        vertical-align: top;\n",
       "    }\n",
       "\n",
       "    .dataframe thead th {\n",
       "        text-align: right;\n",
       "    }\n",
       "</style>\n",
       "<table border=\"1\" class=\"dataframe\">\n",
       "  <thead>\n",
       "    <tr style=\"text-align: right;\">\n",
       "      <th></th>\n",
       "      <th>title</th>\n",
       "      <th>overview</th>\n",
       "      <th>genres_name</th>\n",
       "    </tr>\n",
       "  </thead>\n",
       "  <tbody>\n",
       "    <tr>\n",
       "      <th>0</th>\n",
       "      <td>Toy Story</td>\n",
       "      <td>Led by Woody, Andy's toys live happily in his ...</td>\n",
       "      <td>['Animation', 'Comedy', 'Family']</td>\n",
       "    </tr>\n",
       "    <tr>\n",
       "      <th>1</th>\n",
       "      <td>Jumanji</td>\n",
       "      <td>When siblings Judy and Peter discover an encha...</td>\n",
       "      <td>['Adventure', 'Fantasy', 'Family']</td>\n",
       "    </tr>\n",
       "    <tr>\n",
       "      <th>2</th>\n",
       "      <td>Grumpier Old Men</td>\n",
       "      <td>A family wedding reignites the ancient feud be...</td>\n",
       "      <td>['Romance', 'Comedy']</td>\n",
       "    </tr>\n",
       "    <tr>\n",
       "      <th>3</th>\n",
       "      <td>Waiting to Exhale</td>\n",
       "      <td>Cheated on, mistreated and stepped on, the wom...</td>\n",
       "      <td>['Comedy', 'Drama', 'Romance']</td>\n",
       "    </tr>\n",
       "    <tr>\n",
       "      <th>4</th>\n",
       "      <td>Father of the Bride Part II</td>\n",
       "      <td>Just when George Banks has recovered from his ...</td>\n",
       "      <td>['Comedy']</td>\n",
       "    </tr>\n",
       "  </tbody>\n",
       "</table>\n",
       "</div>"
      ],
      "text/plain": [
       "                         title  \\\n",
       "0                    Toy Story   \n",
       "1                      Jumanji   \n",
       "2             Grumpier Old Men   \n",
       "3            Waiting to Exhale   \n",
       "4  Father of the Bride Part II   \n",
       "\n",
       "                                            overview  \\\n",
       "0  Led by Woody, Andy's toys live happily in his ...   \n",
       "1  When siblings Judy and Peter discover an encha...   \n",
       "2  A family wedding reignites the ancient feud be...   \n",
       "3  Cheated on, mistreated and stepped on, the wom...   \n",
       "4  Just when George Banks has recovered from his ...   \n",
       "\n",
       "                          genres_name  \n",
       "0   ['Animation', 'Comedy', 'Family']  \n",
       "1  ['Adventure', 'Fantasy', 'Family']  \n",
       "2               ['Romance', 'Comedy']  \n",
       "3      ['Comedy', 'Drama', 'Romance']  \n",
       "4                          ['Comedy']  "
      ]
     },
     "execution_count": 7,
     "metadata": {},
     "output_type": "execute_result"
    }
   ],
   "source": [
    "model_data.head()"
   ]
  },
  {
   "attachments": {},
   "cell_type": "markdown",
   "metadata": {},
   "source": [
    "Now, to make my model lighter I will not be using the entire descriptions in the overview column. Instead, I am going to use the RAKE(Rapid Automatic Keyword Extraction algorithm) tool I found for NLP and extract keywords from the text. I am going to assing those keywords to a new column and then drop the overviwe column. First I will put this column in lowercase to avoid duplication."
   ]
  },
  {
   "cell_type": "code",
   "execution_count": 8,
   "metadata": {},
   "outputs": [
    {
     "name": "stderr",
     "output_type": "stream",
     "text": [
      "C:\\Users\\ksfaj\\AppData\\Local\\Temp\\ipykernel_17536\\1815404300.py:1: SettingWithCopyWarning: \n",
      "A value is trying to be set on a copy of a slice from a DataFrame.\n",
      "Try using .loc[row_indexer,col_indexer] = value instead\n",
      "\n",
      "See the caveats in the documentation: https://pandas.pydata.org/pandas-docs/stable/user_guide/indexing.html#returning-a-view-versus-a-copy\n",
      "  model_data['overview']=model_data['overview'].str.lower()\n"
     ]
    }
   ],
   "source": [
    "model_data['overview']=model_data['overview'].str.lower()"
   ]
  },
  {
   "cell_type": "code",
   "execution_count": 9,
   "metadata": {},
   "outputs": [
    {
     "name": "stderr",
     "output_type": "stream",
     "text": [
      "C:\\Users\\ksfaj\\AppData\\Local\\Temp\\ipykernel_17536\\1897459364.py:2: SettingWithCopyWarning: \n",
      "A value is trying to be set on a copy of a slice from a DataFrame.\n",
      "Try using .loc[row_indexer,col_indexer] = value instead\n",
      "\n",
      "See the caveats in the documentation: https://pandas.pydata.org/pandas-docs/stable/user_guide/indexing.html#returning-a-view-versus-a-copy\n",
      "  model_data['keywords'] = \"\"\n"
     ]
    }
   ],
   "source": [
    "#creating the new column\n",
    "model_data['keywords'] = \"\""
   ]
  },
  {
   "cell_type": "code",
   "execution_count": 10,
   "metadata": {},
   "outputs": [],
   "source": [
    "for index, row in model_data.iterrows():\n",
    "    plot = row['overview']\n",
    "\n",
    "    r = Rake()\n",
    "\n",
    "    r.extract_keywords_from_text(plot)\n",
    "\n",
    "    key_words_dict_scores = r.get_word_degrees()\n",
    "\n",
    "    row['keywords'] = list(key_words_dict_scores.keys())\n"
   ]
  },
  {
   "cell_type": "code",
   "execution_count": 11,
   "metadata": {},
   "outputs": [
    {
     "name": "stderr",
     "output_type": "stream",
     "text": [
      "C:\\Users\\ksfaj\\AppData\\Local\\Temp\\ipykernel_17536\\603442979.py:1: SettingWithCopyWarning: \n",
      "A value is trying to be set on a copy of a slice from a DataFrame\n",
      "\n",
      "See the caveats in the documentation: https://pandas.pydata.org/pandas-docs/stable/user_guide/indexing.html#returning-a-view-versus-a-copy\n",
      "  model_data.drop(columns=['overview'],inplace=True)\n"
     ]
    }
   ],
   "source": [
    "model_data.drop(columns=['overview'],inplace=True)"
   ]
  },
  {
   "cell_type": "code",
   "execution_count": 12,
   "metadata": {},
   "outputs": [
    {
     "data": {
      "text/html": [
       "<div>\n",
       "<style scoped>\n",
       "    .dataframe tbody tr th:only-of-type {\n",
       "        vertical-align: middle;\n",
       "    }\n",
       "\n",
       "    .dataframe tbody tr th {\n",
       "        vertical-align: top;\n",
       "    }\n",
       "\n",
       "    .dataframe thead th {\n",
       "        text-align: right;\n",
       "    }\n",
       "</style>\n",
       "<table border=\"1\" class=\"dataframe\">\n",
       "  <thead>\n",
       "    <tr style=\"text-align: right;\">\n",
       "      <th></th>\n",
       "      <th>title</th>\n",
       "      <th>genres_name</th>\n",
       "      <th>keywords</th>\n",
       "    </tr>\n",
       "  </thead>\n",
       "  <tbody>\n",
       "    <tr>\n",
       "      <th>0</th>\n",
       "      <td>Toy Story</td>\n",
       "      <td>['Animation', 'Comedy', 'Family']</td>\n",
       "      <td>[led, woody, andy, toys, live, happily, room, ...</td>\n",
       "    </tr>\n",
       "    <tr>\n",
       "      <th>1</th>\n",
       "      <td>Jumanji</td>\n",
       "      <td>['Adventure', 'Fantasy', 'Family']</td>\n",
       "      <td>[siblings, judy, peter, discover, enchanted, b...</td>\n",
       "    </tr>\n",
       "    <tr>\n",
       "      <th>2</th>\n",
       "      <td>Grumpier Old Men</td>\n",
       "      <td>['Romance', 'Comedy']</td>\n",
       "      <td>[family, wedding, reignites, ancient, feud, ne...</td>\n",
       "    </tr>\n",
       "    <tr>\n",
       "      <th>3</th>\n",
       "      <td>Waiting to Exhale</td>\n",
       "      <td>['Comedy', 'Drama', 'Romance']</td>\n",
       "      <td>[cheated, mistreated, stepped, women, holding,...</td>\n",
       "    </tr>\n",
       "    <tr>\n",
       "      <th>4</th>\n",
       "      <td>Father of the Bride Part II</td>\n",
       "      <td>['Comedy']</td>\n",
       "      <td>[george, banks, recovered, daughter, wedding, ...</td>\n",
       "    </tr>\n",
       "  </tbody>\n",
       "</table>\n",
       "</div>"
      ],
      "text/plain": [
       "                         title                         genres_name  \\\n",
       "0                    Toy Story   ['Animation', 'Comedy', 'Family']   \n",
       "1                      Jumanji  ['Adventure', 'Fantasy', 'Family']   \n",
       "2             Grumpier Old Men               ['Romance', 'Comedy']   \n",
       "3            Waiting to Exhale      ['Comedy', 'Drama', 'Romance']   \n",
       "4  Father of the Bride Part II                          ['Comedy']   \n",
       "\n",
       "                                            keywords  \n",
       "0  [led, woody, andy, toys, live, happily, room, ...  \n",
       "1  [siblings, judy, peter, discover, enchanted, b...  \n",
       "2  [family, wedding, reignites, ancient, feud, ne...  \n",
       "3  [cheated, mistreated, stepped, women, holding,...  \n",
       "4  [george, banks, recovered, daughter, wedding, ...  "
      ]
     },
     "execution_count": 12,
     "metadata": {},
     "output_type": "execute_result"
    }
   ],
   "source": [
    "model_data.head()"
   ]
  },
  {
   "attachments": {},
   "cell_type": "markdown",
   "metadata": {},
   "source": [
    "Since genres_name and keywords are inside brackets that do not really serve a purpose, I am going to remove those brackets and the aphostrophes in genres_names and just leave the values separated by commas."
   ]
  },
  {
   "attachments": {},
   "cell_type": "markdown",
   "metadata": {},
   "source": [
    "I am transforming these values into strings so that they have the same structure"
   ]
  },
  {
   "cell_type": "code",
   "execution_count": 13,
   "metadata": {},
   "outputs": [
    {
     "name": "stderr",
     "output_type": "stream",
     "text": [
      "C:\\Users\\ksfaj\\AppData\\Local\\Temp\\ipykernel_17536\\3384800701.py:1: SettingWithCopyWarning: \n",
      "A value is trying to be set on a copy of a slice from a DataFrame.\n",
      "Try using .loc[row_indexer,col_indexer] = value instead\n",
      "\n",
      "See the caveats in the documentation: https://pandas.pydata.org/pandas-docs/stable/user_guide/indexing.html#returning-a-view-versus-a-copy\n",
      "  model_data['genres_name']=model_data['genres_name'].map(str)\n",
      "C:\\Users\\ksfaj\\AppData\\Local\\Temp\\ipykernel_17536\\3384800701.py:2: SettingWithCopyWarning: \n",
      "A value is trying to be set on a copy of a slice from a DataFrame.\n",
      "Try using .loc[row_indexer,col_indexer] = value instead\n",
      "\n",
      "See the caveats in the documentation: https://pandas.pydata.org/pandas-docs/stable/user_guide/indexing.html#returning-a-view-versus-a-copy\n",
      "  model_data['keywords']=model_data['keywords'].map(str)\n"
     ]
    }
   ],
   "source": [
    "model_data['genres_name']=model_data['genres_name'].map(str)\n",
    "model_data['keywords']=model_data['keywords'].map(str)"
   ]
  },
  {
   "attachments": {},
   "cell_type": "markdown",
   "metadata": {},
   "source": [
    "Now, I am replacing the characters I do not want in these columns and keeping the columns as strings."
   ]
  },
  {
   "cell_type": "code",
   "execution_count": 14,
   "metadata": {},
   "outputs": [
    {
     "name": "stderr",
     "output_type": "stream",
     "text": [
      "C:\\Users\\ksfaj\\AppData\\Local\\Temp\\ipykernel_17536\\2527857529.py:3: FutureWarning: The default value of regex will change from True to False in a future version. In addition, single character regular expressions will *not* be treated as literal strings when regex=True.\n",
      "  model_data[col]=model_data[col].str.replace(val,'')\n",
      "C:\\Users\\ksfaj\\AppData\\Local\\Temp\\ipykernel_17536\\2527857529.py:3: SettingWithCopyWarning: \n",
      "A value is trying to be set on a copy of a slice from a DataFrame.\n",
      "Try using .loc[row_indexer,col_indexer] = value instead\n",
      "\n",
      "See the caveats in the documentation: https://pandas.pydata.org/pandas-docs/stable/user_guide/indexing.html#returning-a-view-versus-a-copy\n",
      "  model_data[col]=model_data[col].str.replace(val,'')\n",
      "C:\\Users\\ksfaj\\AppData\\Local\\Temp\\ipykernel_17536\\2527857529.py:4: SettingWithCopyWarning: \n",
      "A value is trying to be set on a copy of a slice from a DataFrame.\n",
      "Try using .loc[row_indexer,col_indexer] = value instead\n",
      "\n",
      "See the caveats in the documentation: https://pandas.pydata.org/pandas-docs/stable/user_guide/indexing.html#returning-a-view-versus-a-copy\n",
      "  model_data[col]=model_data[col].astype(str)\n"
     ]
    }
   ],
   "source": [
    "for col in ['genres_name','keywords']:\n",
    "    for val in ['[',']','\\'']:\n",
    "        model_data[col]=model_data[col].str.replace(val,'')\n",
    "    model_data[col]=model_data[col].astype(str)"
   ]
  },
  {
   "attachments": {},
   "cell_type": "markdown",
   "metadata": {},
   "source": [
    "This is what I ended up with "
   ]
  },
  {
   "cell_type": "code",
   "execution_count": 15,
   "metadata": {},
   "outputs": [
    {
     "data": {
      "text/html": [
       "<div>\n",
       "<style scoped>\n",
       "    .dataframe tbody tr th:only-of-type {\n",
       "        vertical-align: middle;\n",
       "    }\n",
       "\n",
       "    .dataframe tbody tr th {\n",
       "        vertical-align: top;\n",
       "    }\n",
       "\n",
       "    .dataframe thead th {\n",
       "        text-align: right;\n",
       "    }\n",
       "</style>\n",
       "<table border=\"1\" class=\"dataframe\">\n",
       "  <thead>\n",
       "    <tr style=\"text-align: right;\">\n",
       "      <th></th>\n",
       "      <th>title</th>\n",
       "      <th>genres_name</th>\n",
       "      <th>keywords</th>\n",
       "    </tr>\n",
       "  </thead>\n",
       "  <tbody>\n",
       "    <tr>\n",
       "      <th>0</th>\n",
       "      <td>Toy Story</td>\n",
       "      <td>Animation, Comedy, Family</td>\n",
       "      <td>led, woody, andy, toys, live, happily, room, b...</td>\n",
       "    </tr>\n",
       "    <tr>\n",
       "      <th>1</th>\n",
       "      <td>Jumanji</td>\n",
       "      <td>Adventure, Fantasy, Family</td>\n",
       "      <td>siblings, judy, peter, discover, enchanted, bo...</td>\n",
       "    </tr>\n",
       "    <tr>\n",
       "      <th>2</th>\n",
       "      <td>Grumpier Old Men</td>\n",
       "      <td>Romance, Comedy</td>\n",
       "      <td>family, wedding, reignites, ancient, feud, nex...</td>\n",
       "    </tr>\n",
       "    <tr>\n",
       "      <th>3</th>\n",
       "      <td>Waiting to Exhale</td>\n",
       "      <td>Comedy, Drama, Romance</td>\n",
       "      <td>cheated, mistreated, stepped, women, holding, ...</td>\n",
       "    </tr>\n",
       "    <tr>\n",
       "      <th>4</th>\n",
       "      <td>Father of the Bride Part II</td>\n",
       "      <td>Comedy</td>\n",
       "      <td>george, banks, recovered, daughter, wedding, r...</td>\n",
       "    </tr>\n",
       "  </tbody>\n",
       "</table>\n",
       "</div>"
      ],
      "text/plain": [
       "                         title                 genres_name  \\\n",
       "0                    Toy Story   Animation, Comedy, Family   \n",
       "1                      Jumanji  Adventure, Fantasy, Family   \n",
       "2             Grumpier Old Men             Romance, Comedy   \n",
       "3            Waiting to Exhale      Comedy, Drama, Romance   \n",
       "4  Father of the Bride Part II                      Comedy   \n",
       "\n",
       "                                            keywords  \n",
       "0  led, woody, andy, toys, live, happily, room, b...  \n",
       "1  siblings, judy, peter, discover, enchanted, bo...  \n",
       "2  family, wedding, reignites, ancient, feud, nex...  \n",
       "3  cheated, mistreated, stepped, women, holding, ...  \n",
       "4  george, banks, recovered, daughter, wedding, r...  "
      ]
     },
     "execution_count": 15,
     "metadata": {},
     "output_type": "execute_result"
    }
   ],
   "source": [
    "model_data.head()"
   ]
  },
  {
   "attachments": {},
   "cell_type": "markdown",
   "metadata": {},
   "source": [
    "I want to leave all of the values in lowercase, so that is what I am going to do now with the columns title and genres_name, this is to avoid any malfunction during training"
   ]
  },
  {
   "cell_type": "code",
   "execution_count": 16,
   "metadata": {},
   "outputs": [
    {
     "name": "stderr",
     "output_type": "stream",
     "text": [
      "C:\\Users\\ksfaj\\AppData\\Local\\Temp\\ipykernel_17536\\2969335446.py:1: SettingWithCopyWarning: \n",
      "A value is trying to be set on a copy of a slice from a DataFrame.\n",
      "Try using .loc[row_indexer,col_indexer] = value instead\n",
      "\n",
      "See the caveats in the documentation: https://pandas.pydata.org/pandas-docs/stable/user_guide/indexing.html#returning-a-view-versus-a-copy\n",
      "  model_data['genres_name']=model_data['genres_name'].str.lower()\n",
      "C:\\Users\\ksfaj\\AppData\\Local\\Temp\\ipykernel_17536\\2969335446.py:2: SettingWithCopyWarning: \n",
      "A value is trying to be set on a copy of a slice from a DataFrame.\n",
      "Try using .loc[row_indexer,col_indexer] = value instead\n",
      "\n",
      "See the caveats in the documentation: https://pandas.pydata.org/pandas-docs/stable/user_guide/indexing.html#returning-a-view-versus-a-copy\n",
      "  model_data['title']=model_data['title'].str.lower()\n"
     ]
    }
   ],
   "source": [
    "model_data['genres_name']=model_data['genres_name'].str.lower()\n",
    "model_data['title']=model_data['title'].str.lower()"
   ]
  },
  {
   "cell_type": "code",
   "execution_count": 17,
   "metadata": {},
   "outputs": [
    {
     "data": {
      "text/html": [
       "<div>\n",
       "<style scoped>\n",
       "    .dataframe tbody tr th:only-of-type {\n",
       "        vertical-align: middle;\n",
       "    }\n",
       "\n",
       "    .dataframe tbody tr th {\n",
       "        vertical-align: top;\n",
       "    }\n",
       "\n",
       "    .dataframe thead th {\n",
       "        text-align: right;\n",
       "    }\n",
       "</style>\n",
       "<table border=\"1\" class=\"dataframe\">\n",
       "  <thead>\n",
       "    <tr style=\"text-align: right;\">\n",
       "      <th></th>\n",
       "      <th>title</th>\n",
       "      <th>genres_name</th>\n",
       "      <th>keywords</th>\n",
       "    </tr>\n",
       "  </thead>\n",
       "  <tbody>\n",
       "    <tr>\n",
       "      <th>0</th>\n",
       "      <td>toy story</td>\n",
       "      <td>animation, comedy, family</td>\n",
       "      <td>led, woody, andy, toys, live, happily, room, b...</td>\n",
       "    </tr>\n",
       "    <tr>\n",
       "      <th>1</th>\n",
       "      <td>jumanji</td>\n",
       "      <td>adventure, fantasy, family</td>\n",
       "      <td>siblings, judy, peter, discover, enchanted, bo...</td>\n",
       "    </tr>\n",
       "    <tr>\n",
       "      <th>2</th>\n",
       "      <td>grumpier old men</td>\n",
       "      <td>romance, comedy</td>\n",
       "      <td>family, wedding, reignites, ancient, feud, nex...</td>\n",
       "    </tr>\n",
       "    <tr>\n",
       "      <th>3</th>\n",
       "      <td>waiting to exhale</td>\n",
       "      <td>comedy, drama, romance</td>\n",
       "      <td>cheated, mistreated, stepped, women, holding, ...</td>\n",
       "    </tr>\n",
       "    <tr>\n",
       "      <th>4</th>\n",
       "      <td>father of the bride part ii</td>\n",
       "      <td>comedy</td>\n",
       "      <td>george, banks, recovered, daughter, wedding, r...</td>\n",
       "    </tr>\n",
       "  </tbody>\n",
       "</table>\n",
       "</div>"
      ],
      "text/plain": [
       "                         title                 genres_name  \\\n",
       "0                    toy story   animation, comedy, family   \n",
       "1                      jumanji  adventure, fantasy, family   \n",
       "2             grumpier old men             romance, comedy   \n",
       "3            waiting to exhale      comedy, drama, romance   \n",
       "4  father of the bride part ii                      comedy   \n",
       "\n",
       "                                            keywords  \n",
       "0  led, woody, andy, toys, live, happily, room, b...  \n",
       "1  siblings, judy, peter, discover, enchanted, bo...  \n",
       "2  family, wedding, reignites, ancient, feud, nex...  \n",
       "3  cheated, mistreated, stepped, women, holding, ...  \n",
       "4  george, banks, recovered, daughter, wedding, r...  "
      ]
     },
     "execution_count": 17,
     "metadata": {},
     "output_type": "execute_result"
    }
   ],
   "source": [
    "model_data.head()"
   ]
  },
  {
   "attachments": {},
   "cell_type": "markdown",
   "metadata": {},
   "source": [
    "For the model I am using CountVectorizer so, I am going to create a plain text for it to work with "
   ]
  },
  {
   "attachments": {},
   "cell_type": "markdown",
   "metadata": {},
   "source": [
    "I created a function that takes all of the values in each row and unites them without commas. I am applying this for each row in the data and putting the results in a new column."
   ]
  },
  {
   "cell_type": "code",
   "execution_count": 18,
   "metadata": {},
   "outputs": [],
   "source": [
    "def create_text(model_data):\n",
    "    text = model_data['title']\n",
    "    for i in model_data[1:]:\n",
    "        text = text + ' ' + str(i.replace(',',' '))\n",
    "    return text"
   ]
  },
  {
   "cell_type": "code",
   "execution_count": 19,
   "metadata": {},
   "outputs": [
    {
     "name": "stderr",
     "output_type": "stream",
     "text": [
      "C:\\Users\\ksfaj\\AppData\\Local\\Temp\\ipykernel_17536\\1407568562.py:1: SettingWithCopyWarning: \n",
      "A value is trying to be set on a copy of a slice from a DataFrame.\n",
      "Try using .loc[row_indexer,col_indexer] = value instead\n",
      "\n",
      "See the caveats in the documentation: https://pandas.pydata.org/pandas-docs/stable/user_guide/indexing.html#returning-a-view-versus-a-copy\n",
      "  model_data['text']=model_data.apply(create_text,axis=1)\n"
     ]
    }
   ],
   "source": [
    "model_data['text']=model_data.apply(create_text,axis=1)"
   ]
  },
  {
   "attachments": {},
   "cell_type": "markdown",
   "metadata": {},
   "source": [
    "This is the final result of the data"
   ]
  },
  {
   "cell_type": "code",
   "execution_count": 20,
   "metadata": {},
   "outputs": [
    {
     "data": {
      "text/html": [
       "<div>\n",
       "<style scoped>\n",
       "    .dataframe tbody tr th:only-of-type {\n",
       "        vertical-align: middle;\n",
       "    }\n",
       "\n",
       "    .dataframe tbody tr th {\n",
       "        vertical-align: top;\n",
       "    }\n",
       "\n",
       "    .dataframe thead th {\n",
       "        text-align: right;\n",
       "    }\n",
       "</style>\n",
       "<table border=\"1\" class=\"dataframe\">\n",
       "  <thead>\n",
       "    <tr style=\"text-align: right;\">\n",
       "      <th></th>\n",
       "      <th>title</th>\n",
       "      <th>genres_name</th>\n",
       "      <th>keywords</th>\n",
       "      <th>text</th>\n",
       "    </tr>\n",
       "  </thead>\n",
       "  <tbody>\n",
       "    <tr>\n",
       "      <th>0</th>\n",
       "      <td>toy story</td>\n",
       "      <td>animation, comedy, family</td>\n",
       "      <td>led, woody, andy, toys, live, happily, room, b...</td>\n",
       "      <td>toy story animation  comedy  family led  woody...</td>\n",
       "    </tr>\n",
       "    <tr>\n",
       "      <th>1</th>\n",
       "      <td>jumanji</td>\n",
       "      <td>adventure, fantasy, family</td>\n",
       "      <td>siblings, judy, peter, discover, enchanted, bo...</td>\n",
       "      <td>jumanji adventure  fantasy  family siblings  j...</td>\n",
       "    </tr>\n",
       "    <tr>\n",
       "      <th>2</th>\n",
       "      <td>grumpier old men</td>\n",
       "      <td>romance, comedy</td>\n",
       "      <td>family, wedding, reignites, ancient, feud, nex...</td>\n",
       "      <td>grumpier old men romance  comedy family  weddi...</td>\n",
       "    </tr>\n",
       "    <tr>\n",
       "      <th>3</th>\n",
       "      <td>waiting to exhale</td>\n",
       "      <td>comedy, drama, romance</td>\n",
       "      <td>cheated, mistreated, stepped, women, holding, ...</td>\n",
       "      <td>waiting to exhale comedy  drama  romance cheat...</td>\n",
       "    </tr>\n",
       "    <tr>\n",
       "      <th>4</th>\n",
       "      <td>father of the bride part ii</td>\n",
       "      <td>comedy</td>\n",
       "      <td>george, banks, recovered, daughter, wedding, r...</td>\n",
       "      <td>father of the bride part ii comedy george  ban...</td>\n",
       "    </tr>\n",
       "  </tbody>\n",
       "</table>\n",
       "</div>"
      ],
      "text/plain": [
       "                         title                 genres_name  \\\n",
       "0                    toy story   animation, comedy, family   \n",
       "1                      jumanji  adventure, fantasy, family   \n",
       "2             grumpier old men             romance, comedy   \n",
       "3            waiting to exhale      comedy, drama, romance   \n",
       "4  father of the bride part ii                      comedy   \n",
       "\n",
       "                                            keywords  \\\n",
       "0  led, woody, andy, toys, live, happily, room, b...   \n",
       "1  siblings, judy, peter, discover, enchanted, bo...   \n",
       "2  family, wedding, reignites, ancient, feud, nex...   \n",
       "3  cheated, mistreated, stepped, women, holding, ...   \n",
       "4  george, banks, recovered, daughter, wedding, r...   \n",
       "\n",
       "                                                text  \n",
       "0  toy story animation  comedy  family led  woody...  \n",
       "1  jumanji adventure  fantasy  family siblings  j...  \n",
       "2  grumpier old men romance  comedy family  weddi...  \n",
       "3  waiting to exhale comedy  drama  romance cheat...  \n",
       "4  father of the bride part ii comedy george  ban...  "
      ]
     },
     "execution_count": 20,
     "metadata": {},
     "output_type": "execute_result"
    }
   ],
   "source": [
    "model_data.head()"
   ]
  },
  {
   "cell_type": "code",
   "execution_count": 21,
   "metadata": {},
   "outputs": [],
   "source": [
    "model_data=model_data.reset_index(drop=True)"
   ]
  },
  {
   "attachments": {},
   "cell_type": "markdown",
   "metadata": {},
   "source": [
    "I am going to drop the genres_name and keywords columns, since I do not really need them anymore. The column I am going to vectorize is the text column. Then I am getting the similarity matrix to get the similarity scores."
   ]
  },
  {
   "cell_type": "code",
   "execution_count": 22,
   "metadata": {},
   "outputs": [],
   "source": [
    "model_data.drop(columns=['genres_name','keywords'],inplace=True)"
   ]
  },
  {
   "cell_type": "code",
   "execution_count": 23,
   "metadata": {},
   "outputs": [],
   "source": [
    "cv = CountVectorizer(stop_words='english')\n",
    "cv_matrix = cv.fit_transform(model_data['text'])\n",
    "cosine_sim = cosine_similarity(cv_matrix,cv_matrix)"
   ]
  },
  {
   "attachments": {},
   "cell_type": "markdown",
   "metadata": {},
   "source": [
    "Defining a function to get recommendations"
   ]
  },
  {
   "cell_type": "code",
   "execution_count": 55,
   "metadata": {},
   "outputs": [],
   "source": [
    "\n",
    "def recomendaciones(titulo, cosine_sim = cosine_sim):\n",
    "    # Getting the index of the movie that matches the title\n",
    "    idx = model_data[model_data['title'] == str(titulo).lower()].index[0]\n",
    "    # Getting the similarity scores\n",
    "    sim_scores = list(enumerate(cosine_sim[idx]))\n",
    "    #Sorting the movies based on the similarity scores\n",
    "    sim_scores = sorted(sim_scores, key=lambda x: x[1], reverse=True)\n",
    "\n",
    "    # Getting the top 5 recommendations\n",
    "    sim_scores = sim_scores[1:6]\n",
    "    movie_indices = [i[0] for i in sim_scores]\n",
    "    recommendations=list(model_data['title'].iloc[movie_indices].str.title())\n",
    "    return {'lista recomendada': recommendations} "
   ]
  },
  {
   "attachments": {},
   "cell_type": "markdown",
   "metadata": {},
   "source": [
    "Testing the model"
   ]
  },
  {
   "cell_type": "code",
   "execution_count": 56,
   "metadata": {},
   "outputs": [
    {
     "data": {
      "text/plain": [
       "{'lista recomendada': ['Batman Beyond: Return Of The Joker',\n",
       "  'Batman: The Dark Knight Returns, Part 1',\n",
       "  'The Dark Knight Rises',\n",
       "  'Batman & Robin',\n",
       "  'Batman Begins']}"
      ]
     },
     "execution_count": 56,
     "metadata": {},
     "output_type": "execute_result"
    }
   ],
   "source": [
    "recomendaciones('batman')"
   ]
  },
  {
   "cell_type": "code",
   "execution_count": 27,
   "metadata": {},
   "outputs": [
    {
     "data": {
      "text/plain": [
       "{'lista recomendada': ['E Aí... Comeu?',\n",
       "  'Beautiful Lies',\n",
       "  'Sex, Love & Therapy',\n",
       "  'All Relative',\n",
       "  'Love At First Hiccup']}"
      ]
     },
     "execution_count": 27,
     "metadata": {},
     "output_type": "execute_result"
    }
   ],
   "source": [
    "recomendaciones('the love letter')"
   ]
  },
  {
   "cell_type": "code",
   "execution_count": 28,
   "metadata": {},
   "outputs": [
    {
     "data": {
      "text/plain": [
       "{'lista recomendada': ['Minions: Orientation Day',\n",
       "  'Despicable Me 2',\n",
       "  'Banana',\n",
       "  'One Hundred And One Dalmatians',\n",
       "  'Mower Minions']}"
      ]
     },
     "execution_count": 28,
     "metadata": {},
     "output_type": "execute_result"
    }
   ],
   "source": [
    "recomendaciones('minions')"
   ]
  },
  {
   "cell_type": "code",
   "execution_count": 29,
   "metadata": {},
   "outputs": [
    {
     "data": {
      "text/plain": [
       "{'lista recomendada': ['The Hunger Games: Mockingjay - Part 2',\n",
       "  'The Hunger Games: Catching Fire',\n",
       "  'The Hunger Games: Mockingjay - Part 1',\n",
       "  'Arena',\n",
       "  'The Fifth Element']}"
      ]
     },
     "execution_count": 29,
     "metadata": {},
     "output_type": "execute_result"
    }
   ],
   "source": [
    "recomendaciones('the hunger games')"
   ]
  },
  {
   "cell_type": "code",
   "execution_count": 63,
   "metadata": {},
   "outputs": [
    {
     "data": {
      "text/plain": [
       "{'lista recomendada': ['Toy Story 2',\n",
       "  'Toy Story 3',\n",
       "  'Toy Story Of Terror!',\n",
       "  \"Family Guy Presents: Seth And Alex'S Almost Live Comedy Show\",\n",
       "  'Botsman I Popugay']}"
      ]
     },
     "execution_count": 63,
     "metadata": {},
     "output_type": "execute_result"
    }
   ],
   "source": [
    "recomendaciones('toy story')"
   ]
  },
  {
   "cell_type": "code",
   "execution_count": 66,
   "metadata": {},
   "outputs": [
    {
     "data": {
      "text/plain": [
       "{'lista recomendada': ['Bride & Prejudice',\n",
       "  'Pride & Prejudice',\n",
       "  'Pride And Prejudice And Zombies',\n",
       "  'Invitation To Happiness',\n",
       "  'Tiny Times']}"
      ]
     },
     "execution_count": 66,
     "metadata": {},
     "output_type": "execute_result"
    }
   ],
   "source": [
    "recomendaciones('Pride And Prejudice')"
   ]
  },
  {
   "attachments": {},
   "cell_type": "markdown",
   "metadata": {},
   "source": [
    "This works just fine on my pc, which, to be fair, has a lot of resources. However, I know I probably will not be able to use this algorithm with the full data on the free deploy since the RAM I get is much less than what I have on my local machine. So, for the API what I am going to do is take a random sample of the data (with a size of half the data) and then just use that for the API. I am not changing my alogorithm because I think the recommendations it is giving are kind of spot on, so if you actually want to try it in its full pontential, just download this file and run the previous code if you have a computer with at least 16gb of RAM. I am going put a default in the API for the function so that if a movie you search is not on the data it gives you as recommendation the top 5 most popular movies (I am going to get this information from the EDA)."
   ]
  },
  {
   "cell_type": "code",
   "execution_count": 31,
   "metadata": {},
   "outputs": [
    {
     "data": {
      "text/plain": [
       "(41278, 2)"
      ]
     },
     "execution_count": 31,
     "metadata": {},
     "output_type": "execute_result"
    }
   ],
   "source": [
    "model_data.shape"
   ]
  },
  {
   "attachments": {},
   "cell_type": "markdown",
   "metadata": {},
   "source": [
    "Since I am taking as a sample half of the data, n=41278/2=20639"
   ]
  },
  {
   "cell_type": "code",
   "execution_count": 47,
   "metadata": {},
   "outputs": [],
   "source": [
    "sample_md=model_data.sample(n=20639, random_state=42)"
   ]
  },
  {
   "attachments": {},
   "cell_type": "markdown",
   "metadata": {},
   "source": [
    "Reseting the index to avoid problems "
   ]
  },
  {
   "cell_type": "code",
   "execution_count": 48,
   "metadata": {},
   "outputs": [],
   "source": [
    "sample_md=sample_md.reset_index(drop=True)"
   ]
  },
  {
   "cell_type": "code",
   "execution_count": 49,
   "metadata": {},
   "outputs": [
    {
     "data": {
      "text/html": [
       "<div>\n",
       "<style scoped>\n",
       "    .dataframe tbody tr th:only-of-type {\n",
       "        vertical-align: middle;\n",
       "    }\n",
       "\n",
       "    .dataframe tbody tr th {\n",
       "        vertical-align: top;\n",
       "    }\n",
       "\n",
       "    .dataframe thead th {\n",
       "        text-align: right;\n",
       "    }\n",
       "</style>\n",
       "<table border=\"1\" class=\"dataframe\">\n",
       "  <thead>\n",
       "    <tr style=\"text-align: right;\">\n",
       "      <th></th>\n",
       "      <th>title</th>\n",
       "      <th>text</th>\n",
       "    </tr>\n",
       "  </thead>\n",
       "  <tbody>\n",
       "    <tr>\n",
       "      <th>0</th>\n",
       "      <td>sleepless in seattle</td>\n",
       "      <td>sleepless in seattle comedy  drama  romance yo...</td>\n",
       "    </tr>\n",
       "    <tr>\n",
       "      <th>1</th>\n",
       "      <td>mission to lars</td>\n",
       "      <td>mission to lars documentary kate  spicer  brot...</td>\n",
       "    </tr>\n",
       "    <tr>\n",
       "      <th>2</th>\n",
       "      <td>war for the planet of the apes</td>\n",
       "      <td>war for the planet of the apes drama  science ...</td>\n",
       "    </tr>\n",
       "    <tr>\n",
       "      <th>3</th>\n",
       "      <td>disconnect</td>\n",
       "      <td>disconnect drama  thriller disconnect  interwe...</td>\n",
       "    </tr>\n",
       "    <tr>\n",
       "      <th>4</th>\n",
       "      <td>birdman of alcatraz</td>\n",
       "      <td>birdman of alcatraz drama killing  prison  gua...</td>\n",
       "    </tr>\n",
       "    <tr>\n",
       "      <th>...</th>\n",
       "      <td>...</td>\n",
       "      <td>...</td>\n",
       "    </tr>\n",
       "    <tr>\n",
       "      <th>20634</th>\n",
       "      <td>noobz</td>\n",
       "      <td>noobz comedy  adventure four  friends  hit  ro...</td>\n",
       "    </tr>\n",
       "    <tr>\n",
       "      <th>20635</th>\n",
       "      <td>dracula vs. frankenstein</td>\n",
       "      <td>dracula vs. frankenstein horror  science ficti...</td>\n",
       "    </tr>\n",
       "    <tr>\n",
       "      <th>20636</th>\n",
       "      <td>jaws of satan</td>\n",
       "      <td>jaws of satan horror  mystery  thriller preach...</td>\n",
       "    </tr>\n",
       "    <tr>\n",
       "      <th>20637</th>\n",
       "      <td>kids world</td>\n",
       "      <td>kids world  would  wish  eleven  could  anythi...</td>\n",
       "    </tr>\n",
       "    <tr>\n",
       "      <th>20638</th>\n",
       "      <td>favela rising</td>\n",
       "      <td>favela rising documentary man  emerges  slums ...</td>\n",
       "    </tr>\n",
       "  </tbody>\n",
       "</table>\n",
       "<p>20639 rows × 2 columns</p>\n",
       "</div>"
      ],
      "text/plain": [
       "                                title  \\\n",
       "0                sleepless in seattle   \n",
       "1                     mission to lars   \n",
       "2      war for the planet of the apes   \n",
       "3                          disconnect   \n",
       "4                 birdman of alcatraz   \n",
       "...                               ...   \n",
       "20634                           noobz   \n",
       "20635        dracula vs. frankenstein   \n",
       "20636                   jaws of satan   \n",
       "20637                      kids world   \n",
       "20638                   favela rising   \n",
       "\n",
       "                                                    text  \n",
       "0      sleepless in seattle comedy  drama  romance yo...  \n",
       "1      mission to lars documentary kate  spicer  brot...  \n",
       "2      war for the planet of the apes drama  science ...  \n",
       "3      disconnect drama  thriller disconnect  interwe...  \n",
       "4      birdman of alcatraz drama killing  prison  gua...  \n",
       "...                                                  ...  \n",
       "20634  noobz comedy  adventure four  friends  hit  ro...  \n",
       "20635  dracula vs. frankenstein horror  science ficti...  \n",
       "20636  jaws of satan horror  mystery  thriller preach...  \n",
       "20637  kids world  would  wish  eleven  could  anythi...  \n",
       "20638  favela rising documentary man  emerges  slums ...  \n",
       "\n",
       "[20639 rows x 2 columns]"
      ]
     },
     "execution_count": 49,
     "metadata": {},
     "output_type": "execute_result"
    }
   ],
   "source": [
    "sample_md"
   ]
  },
  {
   "attachments": {},
   "cell_type": "markdown",
   "metadata": {},
   "source": [
    "I am going to export this as a csv file to avoid doing all this transformations in the API. "
   ]
  },
  {
   "cell_type": "code",
   "execution_count": 50,
   "metadata": {},
   "outputs": [],
   "source": [
    "sample_md.to_csv('ML_Data.csv')"
   ]
  },
  {
   "attachments": {},
   "cell_type": "markdown",
   "metadata": {},
   "source": [
    "Now, I am going to put together inside a function the model, including the vectorization steps."
   ]
  },
  {
   "cell_type": "code",
   "execution_count": 67,
   "metadata": {},
   "outputs": [],
   "source": [
    "def recomendaciones1(titulo):\n",
    "    try:\n",
    "        cv1 = CountVectorizer(stop_words='english')\n",
    "        cv_matrix1 = cv1.fit_transform(sample_md['text'])\n",
    "        cosine_sim1 = cosine_similarity(cv_matrix1,cv_matrix1)\n",
    "        # Getting the index of the movie that matches the title\n",
    "        idx = sample_md[sample_md['title'] == str(titulo).lower()].index[0]\n",
    "        # Getting the similarity scores\n",
    "        sim_scores = list(enumerate(cosine_sim1[idx]))\n",
    "        #Sorting the movies based on the similarity scores\n",
    "        sim_scores = sorted(sim_scores, key=lambda x: x[1], reverse=True)\n",
    "\n",
    "        # Getting the top 5 recommendations\n",
    "        sim_scores = sim_scores[1:6]\n",
    "        movie_indices = [i[0] for i in sim_scores]\n",
    "        recommendations=list(sample_md['title'].iloc[movie_indices].str.title())\n",
    "        return {'lista recomendada': recommendations} \n",
    "    except:\n",
    "        return {'lista recomendada': ['Minions', 'Wonder Woman', 'Beauty and the Beast', 'Baby Driver', 'Big Hero 6']}"
   ]
  },
  {
   "cell_type": "code",
   "execution_count": 68,
   "metadata": {},
   "outputs": [
    {
     "data": {
      "text/plain": [
       "{'lista recomendada': ['11 Minutes',\n",
       "  'The Dead Girl',\n",
       "  'Even Money',\n",
       "  'Vips',\n",
       "  'Toronto Stories']}"
      ]
     },
     "execution_count": 68,
     "metadata": {},
     "output_type": "execute_result"
    }
   ],
   "source": [
    "#testing it with a movie in the sample data\n",
    "recomendaciones1('disconnect')"
   ]
  },
  {
   "cell_type": "code",
   "execution_count": 62,
   "metadata": {},
   "outputs": [
    {
     "data": {
      "text/plain": [
       "{'lista recomendada': ['Minions',\n",
       "  'Wonder Woman',\n",
       "  'Beauty and the Beast',\n",
       "  'Baby Driver',\n",
       "  'Big Hero 6']}"
      ]
     },
     "execution_count": 62,
     "metadata": {},
     "output_type": "execute_result"
    }
   ],
   "source": [
    "#testing it with a movie that is not in the sample data\n",
    "recomendaciones1('barbie')"
   ]
  }
 ],
 "metadata": {
  "kernelspec": {
   "display_name": "Python 3",
   "language": "python",
   "name": "python3"
  },
  "language_info": {
   "codemirror_mode": {
    "name": "ipython",
    "version": 3
   },
   "file_extension": ".py",
   "mimetype": "text/x-python",
   "name": "python",
   "nbconvert_exporter": "python",
   "pygments_lexer": "ipython3",
   "version": "3.11.3"
  },
  "orig_nbformat": 4
 },
 "nbformat": 4,
 "nbformat_minor": 2
}
