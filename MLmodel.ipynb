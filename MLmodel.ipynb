{
 "cells": [
  {
   "attachments": {},
   "cell_type": "markdown",
   "metadata": {},
   "source": [
    "# RECOMMENDATION SYSTEM"
   ]
  },
  {
   "attachments": {},
   "cell_type": "markdown",
   "metadata": {},
   "source": [
    "Discalimer: I am making this recommendation system as if I was the target audience, so I am going to focus on what I would like a movie recommendation to be based of with the limited information I have. I would be happier with this dataset if it at least included a column with the name of the film's director or the cast.\n",
    "\n"
   ]
  },
  {
   "attachments": {},
   "cell_type": "markdown",
   "metadata": {},
   "source": [
    "So, I am going to pre-process some of the data to make it more readable for the model and then I am going to train it."
   ]
  },
  {
   "attachments": {},
   "cell_type": "markdown",
   "metadata": {},
   "source": [
    "First, I am importing the libraries I will use and importing the DataFrame"
   ]
  },
  {
   "cell_type": "code",
   "execution_count": 83,
   "metadata": {},
   "outputs": [],
   "source": [
    "import pandas as pd\n",
    "import numpy as np\n",
    "from rake_nltk import Rake\n",
    "from sklearn.metrics.pairwise import cosine_similarity\n",
    "from sklearn.feature_extraction.text import CountVectorizer\n",
    "\n",
    "from IPython.display import Image"
   ]
  },
  {
   "cell_type": "code",
   "execution_count": 35,
   "metadata": {},
   "outputs": [],
   "source": [
    "df=pd.read_csv('Datasets\\Movies_ETL_EDA.csv', index_col=0)"
   ]
  },
  {
   "cell_type": "code",
   "execution_count": 36,
   "metadata": {},
   "outputs": [
    {
     "data": {
      "text/html": [
       "<div>\n",
       "<style scoped>\n",
       "    .dataframe tbody tr th:only-of-type {\n",
       "        vertical-align: middle;\n",
       "    }\n",
       "\n",
       "    .dataframe tbody tr th {\n",
       "        vertical-align: top;\n",
       "    }\n",
       "\n",
       "    .dataframe thead th {\n",
       "        text-align: right;\n",
       "    }\n",
       "</style>\n",
       "<table border=\"1\" class=\"dataframe\">\n",
       "  <thead>\n",
       "    <tr style=\"text-align: right;\">\n",
       "      <th></th>\n",
       "      <th>budget</th>\n",
       "      <th>id</th>\n",
       "      <th>overview</th>\n",
       "      <th>release_date</th>\n",
       "      <th>revenue</th>\n",
       "      <th>title</th>\n",
       "      <th>release_year</th>\n",
       "      <th>return</th>\n",
       "      <th>collection_name</th>\n",
       "      <th>genres_name</th>\n",
       "      <th>pcompany_name</th>\n",
       "      <th>pcountry_name</th>\n",
       "    </tr>\n",
       "  </thead>\n",
       "  <tbody>\n",
       "    <tr>\n",
       "      <th>0</th>\n",
       "      <td>30000000.0</td>\n",
       "      <td>862</td>\n",
       "      <td>Led by Woody, Andy's toys live happily in his ...</td>\n",
       "      <td>1995-10-30</td>\n",
       "      <td>373554033.0</td>\n",
       "      <td>Toy Story</td>\n",
       "      <td>1995</td>\n",
       "      <td>12.451801</td>\n",
       "      <td>Toy Story Collection</td>\n",
       "      <td>['Animation', 'Comedy', 'Family']</td>\n",
       "      <td>['Pixar Animation Studios']</td>\n",
       "      <td>['United States of America']</td>\n",
       "    </tr>\n",
       "    <tr>\n",
       "      <th>1</th>\n",
       "      <td>65000000.0</td>\n",
       "      <td>8844</td>\n",
       "      <td>When siblings Judy and Peter discover an encha...</td>\n",
       "      <td>1995-12-15</td>\n",
       "      <td>262797249.0</td>\n",
       "      <td>Jumanji</td>\n",
       "      <td>1995</td>\n",
       "      <td>4.043035</td>\n",
       "      <td>NaN</td>\n",
       "      <td>['Adventure', 'Fantasy', 'Family']</td>\n",
       "      <td>['TriStar Pictures', 'Teitler Film', 'Intersco...</td>\n",
       "      <td>['United States of America']</td>\n",
       "    </tr>\n",
       "    <tr>\n",
       "      <th>2</th>\n",
       "      <td>0.0</td>\n",
       "      <td>15602</td>\n",
       "      <td>A family wedding reignites the ancient feud be...</td>\n",
       "      <td>1995-12-22</td>\n",
       "      <td>0.0</td>\n",
       "      <td>Grumpier Old Men</td>\n",
       "      <td>1995</td>\n",
       "      <td>0.000000</td>\n",
       "      <td>Grumpy Old Men Collection</td>\n",
       "      <td>['Romance', 'Comedy']</td>\n",
       "      <td>['Warner Bros.', 'Lancaster Gate']</td>\n",
       "      <td>['United States of America']</td>\n",
       "    </tr>\n",
       "    <tr>\n",
       "      <th>3</th>\n",
       "      <td>16000000.0</td>\n",
       "      <td>31357</td>\n",
       "      <td>Cheated on, mistreated and stepped on, the wom...</td>\n",
       "      <td>1995-12-22</td>\n",
       "      <td>81452156.0</td>\n",
       "      <td>Waiting to Exhale</td>\n",
       "      <td>1995</td>\n",
       "      <td>5.090760</td>\n",
       "      <td>NaN</td>\n",
       "      <td>['Comedy', 'Drama', 'Romance']</td>\n",
       "      <td>['Twentieth Century Fox Film Corporation']</td>\n",
       "      <td>['United States of America']</td>\n",
       "    </tr>\n",
       "    <tr>\n",
       "      <th>4</th>\n",
       "      <td>0.0</td>\n",
       "      <td>11862</td>\n",
       "      <td>Just when George Banks has recovered from his ...</td>\n",
       "      <td>1995-02-10</td>\n",
       "      <td>76578911.0</td>\n",
       "      <td>Father of the Bride Part II</td>\n",
       "      <td>1995</td>\n",
       "      <td>0.000000</td>\n",
       "      <td>Father of the Bride Collection</td>\n",
       "      <td>['Comedy']</td>\n",
       "      <td>['Sandollar Productions', 'Touchstone Pictures']</td>\n",
       "      <td>['United States of America']</td>\n",
       "    </tr>\n",
       "  </tbody>\n",
       "</table>\n",
       "</div>"
      ],
      "text/plain": [
       "       budget     id                                           overview  \\\n",
       "0  30000000.0    862  Led by Woody, Andy's toys live happily in his ...   \n",
       "1  65000000.0   8844  When siblings Judy and Peter discover an encha...   \n",
       "2         0.0  15602  A family wedding reignites the ancient feud be...   \n",
       "3  16000000.0  31357  Cheated on, mistreated and stepped on, the wom...   \n",
       "4         0.0  11862  Just when George Banks has recovered from his ...   \n",
       "\n",
       "  release_date      revenue                        title  release_year  \\\n",
       "0   1995-10-30  373554033.0                    Toy Story          1995   \n",
       "1   1995-12-15  262797249.0                      Jumanji          1995   \n",
       "2   1995-12-22          0.0             Grumpier Old Men          1995   \n",
       "3   1995-12-22   81452156.0            Waiting to Exhale          1995   \n",
       "4   1995-02-10   76578911.0  Father of the Bride Part II          1995   \n",
       "\n",
       "      return                 collection_name  \\\n",
       "0  12.451801            Toy Story Collection   \n",
       "1   4.043035                             NaN   \n",
       "2   0.000000       Grumpy Old Men Collection   \n",
       "3   5.090760                             NaN   \n",
       "4   0.000000  Father of the Bride Collection   \n",
       "\n",
       "                          genres_name  \\\n",
       "0   ['Animation', 'Comedy', 'Family']   \n",
       "1  ['Adventure', 'Fantasy', 'Family']   \n",
       "2               ['Romance', 'Comedy']   \n",
       "3      ['Comedy', 'Drama', 'Romance']   \n",
       "4                          ['Comedy']   \n",
       "\n",
       "                                       pcompany_name  \\\n",
       "0                        ['Pixar Animation Studios']   \n",
       "1  ['TriStar Pictures', 'Teitler Film', 'Intersco...   \n",
       "2                 ['Warner Bros.', 'Lancaster Gate']   \n",
       "3         ['Twentieth Century Fox Film Corporation']   \n",
       "4   ['Sandollar Productions', 'Touchstone Pictures']   \n",
       "\n",
       "                  pcountry_name  \n",
       "0  ['United States of America']  \n",
       "1  ['United States of America']  \n",
       "2  ['United States of America']  \n",
       "3  ['United States of America']  \n",
       "4  ['United States of America']  "
      ]
     },
     "execution_count": 36,
     "metadata": {},
     "output_type": "execute_result"
    }
   ],
   "source": [
    "df.head()"
   ]
  },
  {
   "attachments": {},
   "cell_type": "markdown",
   "metadata": {},
   "source": [
    "The only columns I am going to use for the model are overview, title and genres_name because I feel like they have enough information so that I can make a decent recommendation but not so much that is redundant."
   ]
  },
  {
   "cell_type": "code",
   "execution_count": 37,
   "metadata": {},
   "outputs": [],
   "source": [
    "model_data=df[['title','overview','genres_name']]"
   ]
  },
  {
   "cell_type": "code",
   "execution_count": 38,
   "metadata": {},
   "outputs": [
    {
     "data": {
      "text/html": [
       "<div>\n",
       "<style scoped>\n",
       "    .dataframe tbody tr th:only-of-type {\n",
       "        vertical-align: middle;\n",
       "    }\n",
       "\n",
       "    .dataframe tbody tr th {\n",
       "        vertical-align: top;\n",
       "    }\n",
       "\n",
       "    .dataframe thead th {\n",
       "        text-align: right;\n",
       "    }\n",
       "</style>\n",
       "<table border=\"1\" class=\"dataframe\">\n",
       "  <thead>\n",
       "    <tr style=\"text-align: right;\">\n",
       "      <th></th>\n",
       "      <th>title</th>\n",
       "      <th>overview</th>\n",
       "      <th>genres_name</th>\n",
       "    </tr>\n",
       "  </thead>\n",
       "  <tbody>\n",
       "    <tr>\n",
       "      <th>0</th>\n",
       "      <td>Toy Story</td>\n",
       "      <td>Led by Woody, Andy's toys live happily in his ...</td>\n",
       "      <td>['Animation', 'Comedy', 'Family']</td>\n",
       "    </tr>\n",
       "    <tr>\n",
       "      <th>1</th>\n",
       "      <td>Jumanji</td>\n",
       "      <td>When siblings Judy and Peter discover an encha...</td>\n",
       "      <td>['Adventure', 'Fantasy', 'Family']</td>\n",
       "    </tr>\n",
       "    <tr>\n",
       "      <th>2</th>\n",
       "      <td>Grumpier Old Men</td>\n",
       "      <td>A family wedding reignites the ancient feud be...</td>\n",
       "      <td>['Romance', 'Comedy']</td>\n",
       "    </tr>\n",
       "    <tr>\n",
       "      <th>3</th>\n",
       "      <td>Waiting to Exhale</td>\n",
       "      <td>Cheated on, mistreated and stepped on, the wom...</td>\n",
       "      <td>['Comedy', 'Drama', 'Romance']</td>\n",
       "    </tr>\n",
       "    <tr>\n",
       "      <th>4</th>\n",
       "      <td>Father of the Bride Part II</td>\n",
       "      <td>Just when George Banks has recovered from his ...</td>\n",
       "      <td>['Comedy']</td>\n",
       "    </tr>\n",
       "  </tbody>\n",
       "</table>\n",
       "</div>"
      ],
      "text/plain": [
       "                         title  \\\n",
       "0                    Toy Story   \n",
       "1                      Jumanji   \n",
       "2             Grumpier Old Men   \n",
       "3            Waiting to Exhale   \n",
       "4  Father of the Bride Part II   \n",
       "\n",
       "                                            overview  \\\n",
       "0  Led by Woody, Andy's toys live happily in his ...   \n",
       "1  When siblings Judy and Peter discover an encha...   \n",
       "2  A family wedding reignites the ancient feud be...   \n",
       "3  Cheated on, mistreated and stepped on, the wom...   \n",
       "4  Just when George Banks has recovered from his ...   \n",
       "\n",
       "                          genres_name  \n",
       "0   ['Animation', 'Comedy', 'Family']  \n",
       "1  ['Adventure', 'Fantasy', 'Family']  \n",
       "2               ['Romance', 'Comedy']  \n",
       "3      ['Comedy', 'Drama', 'Romance']  \n",
       "4                          ['Comedy']  "
      ]
     },
     "execution_count": 38,
     "metadata": {},
     "output_type": "execute_result"
    }
   ],
   "source": [
    "model_data.head()"
   ]
  },
  {
   "attachments": {},
   "cell_type": "markdown",
   "metadata": {},
   "source": [
    "I am going to select a random sample of the data because I have already tried to run the algorithm with the complete data and the cosine_similarity threw a Memory Error every time. I even tried to run this on Colab to see if I could use there the full set but the same thing happended (attaching proof of the colab error)"
   ]
  },
  {
   "cell_type": "code",
   "execution_count": 86,
   "metadata": {},
   "outputs": [
    {
     "data": {
      "text/html": [
       "<img src=\"Screenshot 2023-05-13 011133.png\"/>"
      ],
      "text/plain": [
       "<IPython.core.display.Image object>"
      ]
     },
     "execution_count": 86,
     "metadata": {},
     "output_type": "execute_result"
    }
   ],
   "source": [
    "Image(url=\"Screenshot 2023-05-13 011133.png\")"
   ]
  },
  {
   "cell_type": "code",
   "execution_count": 39,
   "metadata": {},
   "outputs": [],
   "source": [
    "model_data=model_data.sample(n=20000, random_state=42)"
   ]
  },
  {
   "attachments": {},
   "cell_type": "markdown",
   "metadata": {},
   "source": [
    "Now, to make my model lighter I will not be using the entire descriptions in the overview column. Instead, I am going to use the RAKE(Rapid Automatic Keyword Extraction algorithm) tool I found for NLP and extract keywords from the text. I am going to assing those keywords to a new column and then drop the overviwe column. First I will put this column in lowercase to avoid duplication."
   ]
  },
  {
   "cell_type": "code",
   "execution_count": 40,
   "metadata": {},
   "outputs": [],
   "source": [
    "model_data['overview']=model_data['overview'].str.lower()"
   ]
  },
  {
   "cell_type": "code",
   "execution_count": 41,
   "metadata": {},
   "outputs": [],
   "source": [
    "#creating the new column\n",
    "model_data['keywords'] = \"\""
   ]
  },
  {
   "cell_type": "code",
   "execution_count": 42,
   "metadata": {},
   "outputs": [],
   "source": [
    "for index, row in model_data.iterrows():\n",
    "    plot = row['overview']\n",
    "\n",
    "    r = Rake()\n",
    "\n",
    "    r.extract_keywords_from_text(plot)\n",
    "\n",
    "    key_words_dict_scores = r.get_word_degrees()\n",
    "\n",
    "    row['keywords'] = list(key_words_dict_scores.keys())\n"
   ]
  },
  {
   "cell_type": "code",
   "execution_count": 43,
   "metadata": {},
   "outputs": [],
   "source": [
    "model_data.drop(columns=['overview'],inplace=True)"
   ]
  },
  {
   "cell_type": "code",
   "execution_count": 44,
   "metadata": {},
   "outputs": [
    {
     "data": {
      "text/html": [
       "<div>\n",
       "<style scoped>\n",
       "    .dataframe tbody tr th:only-of-type {\n",
       "        vertical-align: middle;\n",
       "    }\n",
       "\n",
       "    .dataframe tbody tr th {\n",
       "        vertical-align: top;\n",
       "    }\n",
       "\n",
       "    .dataframe thead th {\n",
       "        text-align: right;\n",
       "    }\n",
       "</style>\n",
       "<table border=\"1\" class=\"dataframe\">\n",
       "  <thead>\n",
       "    <tr style=\"text-align: right;\">\n",
       "      <th></th>\n",
       "      <th>title</th>\n",
       "      <th>genres_name</th>\n",
       "      <th>keywords</th>\n",
       "    </tr>\n",
       "  </thead>\n",
       "  <tbody>\n",
       "    <tr>\n",
       "      <th>41579</th>\n",
       "      <td>Sketches of Kaitan City</td>\n",
       "      <td>['Drama']</td>\n",
       "      <td>[seaside, city, kaitan, happy, place, –, shipy...</td>\n",
       "    </tr>\n",
       "    <tr>\n",
       "      <th>43750</th>\n",
       "      <td>Secret Defense</td>\n",
       "      <td>['Crime', 'Drama']</td>\n",
       "      <td>[sylvie, scientist, aged, 30, dig, deeper, bac...</td>\n",
       "    </tr>\n",
       "    <tr>\n",
       "      <th>2494</th>\n",
       "      <td>The Love Letter</td>\n",
       "      <td>['Comedy', 'Drama', 'Romance']</td>\n",
       "      <td>[romantic, comedy, mysterious, love, letter, t...</td>\n",
       "    </tr>\n",
       "    <tr>\n",
       "      <th>8932</th>\n",
       "      <td>Cadence</td>\n",
       "      <td>['Drama']</td>\n",
       "      <td>[punishment, drunken, rebellious, behavior, yo...</td>\n",
       "    </tr>\n",
       "    <tr>\n",
       "      <th>37779</th>\n",
       "      <td>Ajab Prem Ki Ghazab Kahani</td>\n",
       "      <td>['Drama', 'Comedy', 'Romance', 'Foreign']</td>\n",
       "      <td>[prem, ajab, kind, guy, life, president, happy...</td>\n",
       "    </tr>\n",
       "  </tbody>\n",
       "</table>\n",
       "</div>"
      ],
      "text/plain": [
       "                            title                                genres_name  \\\n",
       "41579     Sketches of Kaitan City                                  ['Drama']   \n",
       "43750              Secret Defense                         ['Crime', 'Drama']   \n",
       "2494              The Love Letter             ['Comedy', 'Drama', 'Romance']   \n",
       "8932                      Cadence                                  ['Drama']   \n",
       "37779  Ajab Prem Ki Ghazab Kahani  ['Drama', 'Comedy', 'Romance', 'Foreign']   \n",
       "\n",
       "                                                keywords  \n",
       "41579  [seaside, city, kaitan, happy, place, –, shipy...  \n",
       "43750  [sylvie, scientist, aged, 30, dig, deeper, bac...  \n",
       "2494   [romantic, comedy, mysterious, love, letter, t...  \n",
       "8932   [punishment, drunken, rebellious, behavior, yo...  \n",
       "37779  [prem, ajab, kind, guy, life, president, happy...  "
      ]
     },
     "execution_count": 44,
     "metadata": {},
     "output_type": "execute_result"
    }
   ],
   "source": [
    "model_data.head()"
   ]
  },
  {
   "attachments": {},
   "cell_type": "markdown",
   "metadata": {},
   "source": [
    "Since genres_name and keywords are inside brackets that do no really serve a purpose, I am going to remove those brackets and the aphostrophes in genres_names and just leave the values separated by commas."
   ]
  },
  {
   "attachments": {},
   "cell_type": "markdown",
   "metadata": {},
   "source": [
    "I am transforming these values into strings so that they have the same structure"
   ]
  },
  {
   "cell_type": "code",
   "execution_count": 45,
   "metadata": {},
   "outputs": [],
   "source": [
    "model_data['genres_name']=model_data['genres_name'].map(str)\n",
    "model_data['keywords']=model_data['keywords'].map(str)"
   ]
  },
  {
   "attachments": {},
   "cell_type": "markdown",
   "metadata": {},
   "source": [
    "Now, I am replacing the characters I do not want in these columns and keeping the columns as strings."
   ]
  },
  {
   "cell_type": "code",
   "execution_count": 46,
   "metadata": {},
   "outputs": [
    {
     "name": "stderr",
     "output_type": "stream",
     "text": [
      "C:\\Users\\ksfaj\\AppData\\Local\\Temp\\ipykernel_13912\\2527857529.py:3: FutureWarning: The default value of regex will change from True to False in a future version. In addition, single character regular expressions will *not* be treated as literal strings when regex=True.\n",
      "  model_data[col]=model_data[col].str.replace(val,'')\n"
     ]
    }
   ],
   "source": [
    "for col in ['genres_name','keywords']:\n",
    "    for val in ['[',']','\\'']:\n",
    "        model_data[col]=model_data[col].str.replace(val,'')\n",
    "    model_data[col]=model_data[col].astype(str)"
   ]
  },
  {
   "attachments": {},
   "cell_type": "markdown",
   "metadata": {},
   "source": [
    "This is what I ended up with "
   ]
  },
  {
   "cell_type": "code",
   "execution_count": 47,
   "metadata": {},
   "outputs": [
    {
     "data": {
      "text/html": [
       "<div>\n",
       "<style scoped>\n",
       "    .dataframe tbody tr th:only-of-type {\n",
       "        vertical-align: middle;\n",
       "    }\n",
       "\n",
       "    .dataframe tbody tr th {\n",
       "        vertical-align: top;\n",
       "    }\n",
       "\n",
       "    .dataframe thead th {\n",
       "        text-align: right;\n",
       "    }\n",
       "</style>\n",
       "<table border=\"1\" class=\"dataframe\">\n",
       "  <thead>\n",
       "    <tr style=\"text-align: right;\">\n",
       "      <th></th>\n",
       "      <th>title</th>\n",
       "      <th>genres_name</th>\n",
       "      <th>keywords</th>\n",
       "    </tr>\n",
       "  </thead>\n",
       "  <tbody>\n",
       "    <tr>\n",
       "      <th>41579</th>\n",
       "      <td>Sketches of Kaitan City</td>\n",
       "      <td>Drama</td>\n",
       "      <td>seaside, city, kaitan, happy, place, –, shipya...</td>\n",
       "    </tr>\n",
       "    <tr>\n",
       "      <th>43750</th>\n",
       "      <td>Secret Defense</td>\n",
       "      <td>Crime, Drama</td>\n",
       "      <td>sylvie, scientist, aged, 30, dig, deeper, back...</td>\n",
       "    </tr>\n",
       "    <tr>\n",
       "      <th>2494</th>\n",
       "      <td>The Love Letter</td>\n",
       "      <td>Comedy, Drama, Romance</td>\n",
       "      <td>romantic, comedy, mysterious, love, letter, tu...</td>\n",
       "    </tr>\n",
       "    <tr>\n",
       "      <th>8932</th>\n",
       "      <td>Cadence</td>\n",
       "      <td>Drama</td>\n",
       "      <td>punishment, drunken, rebellious, behavior, you...</td>\n",
       "    </tr>\n",
       "    <tr>\n",
       "      <th>37779</th>\n",
       "      <td>Ajab Prem Ki Ghazab Kahani</td>\n",
       "      <td>Drama, Comedy, Romance, Foreign</td>\n",
       "      <td>prem, ajab, kind, guy, life, president, happy,...</td>\n",
       "    </tr>\n",
       "  </tbody>\n",
       "</table>\n",
       "</div>"
      ],
      "text/plain": [
       "                            title                      genres_name  \\\n",
       "41579     Sketches of Kaitan City                            Drama   \n",
       "43750              Secret Defense                     Crime, Drama   \n",
       "2494              The Love Letter           Comedy, Drama, Romance   \n",
       "8932                      Cadence                            Drama   \n",
       "37779  Ajab Prem Ki Ghazab Kahani  Drama, Comedy, Romance, Foreign   \n",
       "\n",
       "                                                keywords  \n",
       "41579  seaside, city, kaitan, happy, place, –, shipya...  \n",
       "43750  sylvie, scientist, aged, 30, dig, deeper, back...  \n",
       "2494   romantic, comedy, mysterious, love, letter, tu...  \n",
       "8932   punishment, drunken, rebellious, behavior, you...  \n",
       "37779  prem, ajab, kind, guy, life, president, happy,...  "
      ]
     },
     "execution_count": 47,
     "metadata": {},
     "output_type": "execute_result"
    }
   ],
   "source": [
    "model_data.head()"
   ]
  },
  {
   "attachments": {},
   "cell_type": "markdown",
   "metadata": {},
   "source": [
    "I want to leave all of the values in lowercase, so that is what I am going to do now with the columns title and genres_name, this is to avoid any malfunction during training"
   ]
  },
  {
   "cell_type": "code",
   "execution_count": 48,
   "metadata": {},
   "outputs": [],
   "source": [
    "model_data['genres_name']=model_data['genres_name'].str.lower()\n",
    "model_data['title']=model_data['title'].str.lower()"
   ]
  },
  {
   "cell_type": "code",
   "execution_count": 49,
   "metadata": {},
   "outputs": [
    {
     "data": {
      "text/html": [
       "<div>\n",
       "<style scoped>\n",
       "    .dataframe tbody tr th:only-of-type {\n",
       "        vertical-align: middle;\n",
       "    }\n",
       "\n",
       "    .dataframe tbody tr th {\n",
       "        vertical-align: top;\n",
       "    }\n",
       "\n",
       "    .dataframe thead th {\n",
       "        text-align: right;\n",
       "    }\n",
       "</style>\n",
       "<table border=\"1\" class=\"dataframe\">\n",
       "  <thead>\n",
       "    <tr style=\"text-align: right;\">\n",
       "      <th></th>\n",
       "      <th>title</th>\n",
       "      <th>genres_name</th>\n",
       "      <th>keywords</th>\n",
       "    </tr>\n",
       "  </thead>\n",
       "  <tbody>\n",
       "    <tr>\n",
       "      <th>41579</th>\n",
       "      <td>sketches of kaitan city</td>\n",
       "      <td>drama</td>\n",
       "      <td>seaside, city, kaitan, happy, place, –, shipya...</td>\n",
       "    </tr>\n",
       "    <tr>\n",
       "      <th>43750</th>\n",
       "      <td>secret defense</td>\n",
       "      <td>crime, drama</td>\n",
       "      <td>sylvie, scientist, aged, 30, dig, deeper, back...</td>\n",
       "    </tr>\n",
       "    <tr>\n",
       "      <th>2494</th>\n",
       "      <td>the love letter</td>\n",
       "      <td>comedy, drama, romance</td>\n",
       "      <td>romantic, comedy, mysterious, love, letter, tu...</td>\n",
       "    </tr>\n",
       "    <tr>\n",
       "      <th>8932</th>\n",
       "      <td>cadence</td>\n",
       "      <td>drama</td>\n",
       "      <td>punishment, drunken, rebellious, behavior, you...</td>\n",
       "    </tr>\n",
       "    <tr>\n",
       "      <th>37779</th>\n",
       "      <td>ajab prem ki ghazab kahani</td>\n",
       "      <td>drama, comedy, romance, foreign</td>\n",
       "      <td>prem, ajab, kind, guy, life, president, happy,...</td>\n",
       "    </tr>\n",
       "  </tbody>\n",
       "</table>\n",
       "</div>"
      ],
      "text/plain": [
       "                            title                      genres_name  \\\n",
       "41579     sketches of kaitan city                            drama   \n",
       "43750              secret defense                     crime, drama   \n",
       "2494              the love letter           comedy, drama, romance   \n",
       "8932                      cadence                            drama   \n",
       "37779  ajab prem ki ghazab kahani  drama, comedy, romance, foreign   \n",
       "\n",
       "                                                keywords  \n",
       "41579  seaside, city, kaitan, happy, place, –, shipya...  \n",
       "43750  sylvie, scientist, aged, 30, dig, deeper, back...  \n",
       "2494   romantic, comedy, mysterious, love, letter, tu...  \n",
       "8932   punishment, drunken, rebellious, behavior, you...  \n",
       "37779  prem, ajab, kind, guy, life, president, happy,...  "
      ]
     },
     "execution_count": 49,
     "metadata": {},
     "output_type": "execute_result"
    }
   ],
   "source": [
    "model_data.head()"
   ]
  },
  {
   "attachments": {},
   "cell_type": "markdown",
   "metadata": {},
   "source": [
    "For the model I am using CountVectorizer so, I am going to create a plain text for it to work with and I am also going to assing the title as the index"
   ]
  },
  {
   "attachments": {},
   "cell_type": "markdown",
   "metadata": {},
   "source": [
    "I created a function that takes all of the values in each row and unites them without commas. I am applying this for each row in the data and putting the results in a new column."
   ]
  },
  {
   "cell_type": "code",
   "execution_count": 50,
   "metadata": {},
   "outputs": [],
   "source": [
    "def create_text(model_data):\n",
    "    text = model_data['title']\n",
    "    for i in model_data[1:]:\n",
    "        text = text + ' ' + str(i.replace(',',' '))\n",
    "    return text"
   ]
  },
  {
   "cell_type": "code",
   "execution_count": 51,
   "metadata": {},
   "outputs": [],
   "source": [
    "model_data['text']=model_data.apply(create_text,axis=1)"
   ]
  },
  {
   "attachments": {},
   "cell_type": "markdown",
   "metadata": {},
   "source": [
    "This is the final result of the data"
   ]
  },
  {
   "cell_type": "code",
   "execution_count": 52,
   "metadata": {},
   "outputs": [
    {
     "data": {
      "text/html": [
       "<div>\n",
       "<style scoped>\n",
       "    .dataframe tbody tr th:only-of-type {\n",
       "        vertical-align: middle;\n",
       "    }\n",
       "\n",
       "    .dataframe tbody tr th {\n",
       "        vertical-align: top;\n",
       "    }\n",
       "\n",
       "    .dataframe thead th {\n",
       "        text-align: right;\n",
       "    }\n",
       "</style>\n",
       "<table border=\"1\" class=\"dataframe\">\n",
       "  <thead>\n",
       "    <tr style=\"text-align: right;\">\n",
       "      <th></th>\n",
       "      <th>title</th>\n",
       "      <th>genres_name</th>\n",
       "      <th>keywords</th>\n",
       "      <th>text</th>\n",
       "    </tr>\n",
       "  </thead>\n",
       "  <tbody>\n",
       "    <tr>\n",
       "      <th>41579</th>\n",
       "      <td>sketches of kaitan city</td>\n",
       "      <td>drama</td>\n",
       "      <td>seaside, city, kaitan, happy, place, –, shipya...</td>\n",
       "      <td>sketches of kaitan city drama seaside  city  k...</td>\n",
       "    </tr>\n",
       "    <tr>\n",
       "      <th>43750</th>\n",
       "      <td>secret defense</td>\n",
       "      <td>crime, drama</td>\n",
       "      <td>sylvie, scientist, aged, 30, dig, deeper, back...</td>\n",
       "      <td>secret defense crime  drama sylvie  scientist ...</td>\n",
       "    </tr>\n",
       "    <tr>\n",
       "      <th>2494</th>\n",
       "      <td>the love letter</td>\n",
       "      <td>comedy, drama, romance</td>\n",
       "      <td>romantic, comedy, mysterious, love, letter, tu...</td>\n",
       "      <td>the love letter comedy  drama  romance romanti...</td>\n",
       "    </tr>\n",
       "    <tr>\n",
       "      <th>8932</th>\n",
       "      <td>cadence</td>\n",
       "      <td>drama</td>\n",
       "      <td>punishment, drunken, rebellious, behavior, you...</td>\n",
       "      <td>cadence drama punishment  drunken  rebellious ...</td>\n",
       "    </tr>\n",
       "    <tr>\n",
       "      <th>37779</th>\n",
       "      <td>ajab prem ki ghazab kahani</td>\n",
       "      <td>drama, comedy, romance, foreign</td>\n",
       "      <td>prem, ajab, kind, guy, life, president, happy,...</td>\n",
       "      <td>ajab prem ki ghazab kahani drama  comedy  roma...</td>\n",
       "    </tr>\n",
       "  </tbody>\n",
       "</table>\n",
       "</div>"
      ],
      "text/plain": [
       "                            title                      genres_name  \\\n",
       "41579     sketches of kaitan city                            drama   \n",
       "43750              secret defense                     crime, drama   \n",
       "2494              the love letter           comedy, drama, romance   \n",
       "8932                      cadence                            drama   \n",
       "37779  ajab prem ki ghazab kahani  drama, comedy, romance, foreign   \n",
       "\n",
       "                                                keywords  \\\n",
       "41579  seaside, city, kaitan, happy, place, –, shipya...   \n",
       "43750  sylvie, scientist, aged, 30, dig, deeper, back...   \n",
       "2494   romantic, comedy, mysterious, love, letter, tu...   \n",
       "8932   punishment, drunken, rebellious, behavior, you...   \n",
       "37779  prem, ajab, kind, guy, life, president, happy,...   \n",
       "\n",
       "                                                    text  \n",
       "41579  sketches of kaitan city drama seaside  city  k...  \n",
       "43750  secret defense crime  drama sylvie  scientist ...  \n",
       "2494   the love letter comedy  drama  romance romanti...  \n",
       "8932   cadence drama punishment  drunken  rebellious ...  \n",
       "37779  ajab prem ki ghazab kahani drama  comedy  roma...  "
      ]
     },
     "execution_count": 52,
     "metadata": {},
     "output_type": "execute_result"
    }
   ],
   "source": [
    "model_data.head()"
   ]
  },
  {
   "cell_type": "code",
   "execution_count": 53,
   "metadata": {},
   "outputs": [],
   "source": [
    "model_data=model_data.reset_index(drop=True)"
   ]
  },
  {
   "attachments": {},
   "cell_type": "markdown",
   "metadata": {},
   "source": [
    "I am going to drop the genres_name and keywords columns, since I do not really need them anymore. The column I am going to vectorize is the text column. Then I am getting the similarity matrix to get the similarity scores."
   ]
  },
  {
   "cell_type": "code",
   "execution_count": 55,
   "metadata": {},
   "outputs": [],
   "source": [
    "model_data.drop(columns=['genres_name','keywords'],inplace=True)"
   ]
  },
  {
   "cell_type": "code",
   "execution_count": 57,
   "metadata": {},
   "outputs": [],
   "source": [
    "cv = CountVectorizer(stop_words='english')\n",
    "cv_matrix = cv.fit_transform(model_data['text'])\n",
    "cosine_sim = cosine_similarity(cv_matrix,cv_matrix)"
   ]
  },
  {
   "attachments": {},
   "cell_type": "markdown",
   "metadata": {},
   "source": [
    "Defining a function to get recommendations"
   ]
  },
  {
   "cell_type": "code",
   "execution_count": 79,
   "metadata": {},
   "outputs": [],
   "source": [
    "\n",
    "def recomendaciones(titulo, cosine_sim = cosine_sim):\n",
    "    # Getting the index of the movie that matches the title\n",
    "    idx = model_data[model_data['title'] == str(titulo).lower()].index[0]\n",
    "    # Getting the similarity scores\n",
    "    sim_scores = list(enumerate(cosine_sim[idx]))\n",
    "    #Sorting the movies based on the similarity scores\n",
    "    sim_scores = sorted(sim_scores, key=lambda x: x[1], reverse=True)\n",
    "\n",
    "    # Getting the top 5 recommendations\n",
    "    sim_scores = sim_scores[1:6]\n",
    "    movie_indices = [i[0] for i in sim_scores]\n",
    "    recommendations=list(model_data['title'].iloc[movie_indices].str.title())\n",
    "    return {'lista recomendada': recommendations} "
   ]
  },
  {
   "attachments": {},
   "cell_type": "markdown",
   "metadata": {},
   "source": [
    "Testing the model"
   ]
  },
  {
   "cell_type": "code",
   "execution_count": 80,
   "metadata": {},
   "outputs": [
    {
     "data": {
      "text/plain": [
       "{'lista recomendada': ['Batman Beyond: Return Of The Joker',\n",
       "  'Batman: The Dark Knight Returns, Part 1',\n",
       "  'The Dark Knight Rises',\n",
       "  'Batman Vs Dracula',\n",
       "  'Batman: Mask Of The Phantasm']}"
      ]
     },
     "execution_count": 80,
     "metadata": {},
     "output_type": "execute_result"
    }
   ],
   "source": [
    "recomendaciones('batman')"
   ]
  },
  {
   "cell_type": "code",
   "execution_count": 81,
   "metadata": {},
   "outputs": [
    {
     "data": {
      "text/plain": [
       "{'lista recomendada': ['Beautiful Lies',\n",
       "  'Sex, Love & Therapy',\n",
       "  'All Relative',\n",
       "  'A Bela E O Paparazzo',\n",
       "  'Love At First Hiccup']}"
      ]
     },
     "execution_count": 81,
     "metadata": {},
     "output_type": "execute_result"
    }
   ],
   "source": [
    "recomendaciones('the love letter')"
   ]
  },
  {
   "cell_type": "code",
   "execution_count": 89,
   "metadata": {},
   "outputs": [
    {
     "data": {
      "text/plain": [
       "{'lista recomendada': ['Minions: Orientation Day',\n",
       "  'Despicable Me 2',\n",
       "  'Banana',\n",
       "  'Despicable Me 3',\n",
       "  'Veggietales: Dave And The Giant Pickle']}"
      ]
     },
     "execution_count": 89,
     "metadata": {},
     "output_type": "execute_result"
    }
   ],
   "source": [
    "recomendaciones('minions')"
   ]
  }
 ],
 "metadata": {
  "kernelspec": {
   "display_name": "Python 3",
   "language": "python",
   "name": "python3"
  },
  "language_info": {
   "codemirror_mode": {
    "name": "ipython",
    "version": 3
   },
   "file_extension": ".py",
   "mimetype": "text/x-python",
   "name": "python",
   "nbconvert_exporter": "python",
   "pygments_lexer": "ipython3",
   "version": "3.11.3"
  },
  "orig_nbformat": 4
 },
 "nbformat": 4,
 "nbformat_minor": 2
}
