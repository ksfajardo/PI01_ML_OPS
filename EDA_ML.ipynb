{
 "cells": [
  {
   "attachments": {},
   "cell_type": "markdown",
   "metadata": {},
   "source": [
    "EDA for recommendation model"
   ]
  },
  {
   "attachments": {},
   "cell_type": "markdown",
   "metadata": {},
   "source": [
    "Importing the libraries I will need"
   ]
  },
  {
   "cell_type": "code",
   "execution_count": 1,
   "metadata": {},
   "outputs": [],
   "source": [
    "import numpy as np\n",
    "import pandas as pd\n",
    "import matplotlib.pyplot as plt\n",
    "%matplotlib inline\n",
    "\n",
    "import seaborn as sns\n",
    "sns.set()"
   ]
  },
  {
   "attachments": {},
   "cell_type": "markdown",
   "metadata": {},
   "source": [
    "Reading the csv file with the cleaned data"
   ]
  },
  {
   "cell_type": "code",
   "execution_count": 2,
   "metadata": {},
   "outputs": [],
   "source": [
    "df=pd.read_csv('Datasets\\Movies_ETL.csv')"
   ]
  },
  {
   "attachments": {},
   "cell_type": "markdown",
   "metadata": {},
   "source": [
    "Getting information on the columns"
   ]
  },
  {
   "cell_type": "code",
   "execution_count": 3,
   "metadata": {},
   "outputs": [
    {
     "name": "stdout",
     "output_type": "stream",
     "text": [
      "<class 'pandas.core.frame.DataFrame'>\n",
      "RangeIndex: 45376 entries, 0 to 45375\n",
      "Data columns (total 24 columns):\n",
      " #   Column             Non-Null Count  Dtype  \n",
      "---  ------             --------------  -----  \n",
      " 0   budget             45376 non-null  float64\n",
      " 1   id                 45376 non-null  int64  \n",
      " 2   original_language  45365 non-null  object \n",
      " 3   overview           44435 non-null  object \n",
      " 4   popularity         45376 non-null  float64\n",
      " 5   release_date       45376 non-null  object \n",
      " 6   revenue            45376 non-null  float64\n",
      " 7   runtime            45130 non-null  float64\n",
      " 8   status             45296 non-null  object \n",
      " 9   tagline            20398 non-null  object \n",
      " 10  title              45376 non-null  object \n",
      " 11  vote_average       45376 non-null  float64\n",
      " 12  release_year       45376 non-null  int64  \n",
      " 13  return             45376 non-null  float64\n",
      " 14  collection_name    4488 non-null   object \n",
      " 15  idcollection       4488 non-null   float64\n",
      " 16  genres_name        45376 non-null  object \n",
      " 17  idgenres           45376 non-null  object \n",
      " 18  slang_name         45376 non-null  object \n",
      " 19  slang_isocode      45376 non-null  object \n",
      " 20  pcompany_name      45376 non-null  object \n",
      " 21  idpcompany         45376 non-null  object \n",
      " 22  pcountry_name      45376 non-null  object \n",
      " 23  pcountry_isocode   45376 non-null  object \n",
      "dtypes: float64(7), int64(2), object(15)\n",
      "memory usage: 8.3+ MB\n"
     ]
    }
   ],
   "source": [
    "df.info()"
   ]
  },
  {
   "cell_type": "code",
   "execution_count": 4,
   "metadata": {},
   "outputs": [
    {
     "data": {
      "text/plain": [
       "idcollection         40888\n",
       "collection_name      40888\n",
       "tagline              24978\n",
       "overview               941\n",
       "runtime                246\n",
       "status                  80\n",
       "original_language       11\n",
       "budget                   0\n",
       "pcountry_name            0\n",
       "idpcompany               0\n",
       "pcompany_name            0\n",
       "slang_isocode            0\n",
       "slang_name               0\n",
       "idgenres                 0\n",
       "genres_name              0\n",
       "release_year             0\n",
       "return                   0\n",
       "id                       0\n",
       "vote_average             0\n",
       "title                    0\n",
       "revenue                  0\n",
       "release_date             0\n",
       "popularity               0\n",
       "pcountry_isocode         0\n",
       "dtype: int64"
      ]
     },
     "execution_count": 4,
     "metadata": {},
     "output_type": "execute_result"
    }
   ],
   "source": [
    "df.isna().sum().sort_values(ascending = False)"
   ]
  }
 ],
 "metadata": {
  "kernelspec": {
   "display_name": "Python 3",
   "language": "python",
   "name": "python3"
  },
  "language_info": {
   "codemirror_mode": {
    "name": "ipython",
    "version": 3
   },
   "file_extension": ".py",
   "mimetype": "text/x-python",
   "name": "python",
   "nbconvert_exporter": "python",
   "pygments_lexer": "ipython3",
   "version": "3.11.3"
  },
  "orig_nbformat": 4
 },
 "nbformat": 4,
 "nbformat_minor": 2
}
