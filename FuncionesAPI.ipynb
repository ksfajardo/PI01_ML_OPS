{
 "cells": [
  {
   "attachments": {},
   "cell_type": "markdown",
   "metadata": {},
   "source": [
    "Funciones API"
   ]
  },
  {
   "cell_type": "code",
   "execution_count": 21,
   "metadata": {},
   "outputs": [],
   "source": [
    "import pandas as pd\n",
    "import numpy as np"
   ]
  },
  {
   "cell_type": "code",
   "execution_count": 22,
   "metadata": {},
   "outputs": [],
   "source": [
    "df=pd.read_csv('Datasets\\Movies_ETL.csv')"
   ]
  },
  {
   "cell_type": "code",
   "execution_count": 23,
   "metadata": {},
   "outputs": [],
   "source": [
    "df.drop(columns=['overview','status','tagline','idcollection','idgenres','idpcompany','slang_name','pcountry_isocode'], inplace=True)\n",
    "df.drop_duplicates(inplace=True)\n",
    "df.drop_duplicates(subset=['id'],inplace=True)"
   ]
  },
  {
   "cell_type": "code",
   "execution_count": 24,
   "metadata": {},
   "outputs": [],
   "source": [
    "df=df.reset_index(drop=True)"
   ]
  },
  {
   "cell_type": "code",
   "execution_count": 25,
   "metadata": {},
   "outputs": [
    {
     "data": {
      "text/html": [
       "<div>\n",
       "<style scoped>\n",
       "    .dataframe tbody tr th:only-of-type {\n",
       "        vertical-align: middle;\n",
       "    }\n",
       "\n",
       "    .dataframe tbody tr th {\n",
       "        vertical-align: top;\n",
       "    }\n",
       "\n",
       "    .dataframe thead th {\n",
       "        text-align: right;\n",
       "    }\n",
       "</style>\n",
       "<table border=\"1\" class=\"dataframe\">\n",
       "  <thead>\n",
       "    <tr style=\"text-align: right;\">\n",
       "      <th></th>\n",
       "      <th>budget</th>\n",
       "      <th>id</th>\n",
       "      <th>original_language</th>\n",
       "      <th>popularity</th>\n",
       "      <th>release_date</th>\n",
       "      <th>revenue</th>\n",
       "      <th>runtime</th>\n",
       "      <th>title</th>\n",
       "      <th>vote_average</th>\n",
       "      <th>release_year</th>\n",
       "      <th>return</th>\n",
       "      <th>collection_name</th>\n",
       "      <th>genres_name</th>\n",
       "      <th>slang_isocode</th>\n",
       "      <th>pcompany_name</th>\n",
       "      <th>pcountry_name</th>\n",
       "    </tr>\n",
       "  </thead>\n",
       "  <tbody>\n",
       "    <tr>\n",
       "      <th>0</th>\n",
       "      <td>30000000.0</td>\n",
       "      <td>862</td>\n",
       "      <td>en</td>\n",
       "      <td>21.946943</td>\n",
       "      <td>1995-10-30</td>\n",
       "      <td>373554033.0</td>\n",
       "      <td>81.0</td>\n",
       "      <td>Toy Story</td>\n",
       "      <td>7.7</td>\n",
       "      <td>1995</td>\n",
       "      <td>12.451801</td>\n",
       "      <td>Toy Story Collection</td>\n",
       "      <td>['Animation', 'Comedy', 'Family']</td>\n",
       "      <td>['en']</td>\n",
       "      <td>['Pixar Animation Studios']</td>\n",
       "      <td>['United States of America']</td>\n",
       "    </tr>\n",
       "    <tr>\n",
       "      <th>1</th>\n",
       "      <td>65000000.0</td>\n",
       "      <td>8844</td>\n",
       "      <td>en</td>\n",
       "      <td>17.015539</td>\n",
       "      <td>1995-12-15</td>\n",
       "      <td>262797249.0</td>\n",
       "      <td>104.0</td>\n",
       "      <td>Jumanji</td>\n",
       "      <td>6.9</td>\n",
       "      <td>1995</td>\n",
       "      <td>4.043035</td>\n",
       "      <td>NaN</td>\n",
       "      <td>['Adventure', 'Fantasy', 'Family']</td>\n",
       "      <td>['en', 'fr']</td>\n",
       "      <td>['TriStar Pictures', 'Teitler Film', 'Intersco...</td>\n",
       "      <td>['United States of America']</td>\n",
       "    </tr>\n",
       "    <tr>\n",
       "      <th>2</th>\n",
       "      <td>0.0</td>\n",
       "      <td>15602</td>\n",
       "      <td>en</td>\n",
       "      <td>11.712900</td>\n",
       "      <td>1995-12-22</td>\n",
       "      <td>0.0</td>\n",
       "      <td>101.0</td>\n",
       "      <td>Grumpier Old Men</td>\n",
       "      <td>6.5</td>\n",
       "      <td>1995</td>\n",
       "      <td>0.000000</td>\n",
       "      <td>Grumpy Old Men Collection</td>\n",
       "      <td>['Romance', 'Comedy']</td>\n",
       "      <td>['en']</td>\n",
       "      <td>['Warner Bros.', 'Lancaster Gate']</td>\n",
       "      <td>['United States of America']</td>\n",
       "    </tr>\n",
       "    <tr>\n",
       "      <th>3</th>\n",
       "      <td>16000000.0</td>\n",
       "      <td>31357</td>\n",
       "      <td>en</td>\n",
       "      <td>3.859495</td>\n",
       "      <td>1995-12-22</td>\n",
       "      <td>81452156.0</td>\n",
       "      <td>127.0</td>\n",
       "      <td>Waiting to Exhale</td>\n",
       "      <td>6.1</td>\n",
       "      <td>1995</td>\n",
       "      <td>5.090760</td>\n",
       "      <td>NaN</td>\n",
       "      <td>['Comedy', 'Drama', 'Romance']</td>\n",
       "      <td>['en']</td>\n",
       "      <td>['Twentieth Century Fox Film Corporation']</td>\n",
       "      <td>['United States of America']</td>\n",
       "    </tr>\n",
       "    <tr>\n",
       "      <th>4</th>\n",
       "      <td>0.0</td>\n",
       "      <td>11862</td>\n",
       "      <td>en</td>\n",
       "      <td>8.387519</td>\n",
       "      <td>1995-02-10</td>\n",
       "      <td>76578911.0</td>\n",
       "      <td>106.0</td>\n",
       "      <td>Father of the Bride Part II</td>\n",
       "      <td>5.7</td>\n",
       "      <td>1995</td>\n",
       "      <td>0.000000</td>\n",
       "      <td>Father of the Bride Collection</td>\n",
       "      <td>['Comedy']</td>\n",
       "      <td>['en']</td>\n",
       "      <td>['Sandollar Productions', 'Touchstone Pictures']</td>\n",
       "      <td>['United States of America']</td>\n",
       "    </tr>\n",
       "    <tr>\n",
       "      <th>...</th>\n",
       "      <td>...</td>\n",
       "      <td>...</td>\n",
       "      <td>...</td>\n",
       "      <td>...</td>\n",
       "      <td>...</td>\n",
       "      <td>...</td>\n",
       "      <td>...</td>\n",
       "      <td>...</td>\n",
       "      <td>...</td>\n",
       "      <td>...</td>\n",
       "      <td>...</td>\n",
       "      <td>...</td>\n",
       "      <td>...</td>\n",
       "      <td>...</td>\n",
       "      <td>...</td>\n",
       "      <td>...</td>\n",
       "    </tr>\n",
       "    <tr>\n",
       "      <th>45341</th>\n",
       "      <td>0.0</td>\n",
       "      <td>30840</td>\n",
       "      <td>en</td>\n",
       "      <td>5.683753</td>\n",
       "      <td>1991-05-13</td>\n",
       "      <td>0.0</td>\n",
       "      <td>104.0</td>\n",
       "      <td>Robin Hood</td>\n",
       "      <td>5.7</td>\n",
       "      <td>1991</td>\n",
       "      <td>0.000000</td>\n",
       "      <td>NaN</td>\n",
       "      <td>['Drama', 'Action', 'Romance']</td>\n",
       "      <td>['en']</td>\n",
       "      <td>['Westdeutscher Rundfunk (WDR)', 'Working Titl...</td>\n",
       "      <td>['Canada', 'Germany', 'United Kingdom', 'Unite...</td>\n",
       "    </tr>\n",
       "    <tr>\n",
       "      <th>45342</th>\n",
       "      <td>0.0</td>\n",
       "      <td>111109</td>\n",
       "      <td>tl</td>\n",
       "      <td>0.178241</td>\n",
       "      <td>2011-11-17</td>\n",
       "      <td>0.0</td>\n",
       "      <td>360.0</td>\n",
       "      <td>Century of Birthing</td>\n",
       "      <td>9.0</td>\n",
       "      <td>2011</td>\n",
       "      <td>0.000000</td>\n",
       "      <td>NaN</td>\n",
       "      <td>['Drama']</td>\n",
       "      <td>['tl']</td>\n",
       "      <td>['Sine Olivia']</td>\n",
       "      <td>['Philippines']</td>\n",
       "    </tr>\n",
       "    <tr>\n",
       "      <th>45343</th>\n",
       "      <td>0.0</td>\n",
       "      <td>67758</td>\n",
       "      <td>en</td>\n",
       "      <td>0.903007</td>\n",
       "      <td>2003-08-01</td>\n",
       "      <td>0.0</td>\n",
       "      <td>90.0</td>\n",
       "      <td>Betrayal</td>\n",
       "      <td>3.8</td>\n",
       "      <td>2003</td>\n",
       "      <td>0.000000</td>\n",
       "      <td>NaN</td>\n",
       "      <td>['Action', 'Drama', 'Thriller']</td>\n",
       "      <td>['en']</td>\n",
       "      <td>['American World Pictures']</td>\n",
       "      <td>['United States of America']</td>\n",
       "    </tr>\n",
       "    <tr>\n",
       "      <th>45344</th>\n",
       "      <td>0.0</td>\n",
       "      <td>227506</td>\n",
       "      <td>en</td>\n",
       "      <td>0.003503</td>\n",
       "      <td>1917-10-21</td>\n",
       "      <td>0.0</td>\n",
       "      <td>87.0</td>\n",
       "      <td>Satan Triumphant</td>\n",
       "      <td>0.0</td>\n",
       "      <td>1917</td>\n",
       "      <td>0.000000</td>\n",
       "      <td>NaN</td>\n",
       "      <td>[]</td>\n",
       "      <td>[]</td>\n",
       "      <td>['Yermoliev']</td>\n",
       "      <td>['Russia']</td>\n",
       "    </tr>\n",
       "    <tr>\n",
       "      <th>45345</th>\n",
       "      <td>0.0</td>\n",
       "      <td>461257</td>\n",
       "      <td>en</td>\n",
       "      <td>0.163015</td>\n",
       "      <td>2017-06-09</td>\n",
       "      <td>0.0</td>\n",
       "      <td>75.0</td>\n",
       "      <td>Queerama</td>\n",
       "      <td>0.0</td>\n",
       "      <td>2017</td>\n",
       "      <td>0.000000</td>\n",
       "      <td>NaN</td>\n",
       "      <td>[]</td>\n",
       "      <td>['en']</td>\n",
       "      <td>[]</td>\n",
       "      <td>['United Kingdom']</td>\n",
       "    </tr>\n",
       "  </tbody>\n",
       "</table>\n",
       "<p>45346 rows × 16 columns</p>\n",
       "</div>"
      ],
      "text/plain": [
       "           budget      id original_language  popularity release_date  \\\n",
       "0      30000000.0     862                en   21.946943   1995-10-30   \n",
       "1      65000000.0    8844                en   17.015539   1995-12-15   \n",
       "2             0.0   15602                en   11.712900   1995-12-22   \n",
       "3      16000000.0   31357                en    3.859495   1995-12-22   \n",
       "4             0.0   11862                en    8.387519   1995-02-10   \n",
       "...           ...     ...               ...         ...          ...   \n",
       "45341         0.0   30840                en    5.683753   1991-05-13   \n",
       "45342         0.0  111109                tl    0.178241   2011-11-17   \n",
       "45343         0.0   67758                en    0.903007   2003-08-01   \n",
       "45344         0.0  227506                en    0.003503   1917-10-21   \n",
       "45345         0.0  461257                en    0.163015   2017-06-09   \n",
       "\n",
       "           revenue  runtime                        title  vote_average  \\\n",
       "0      373554033.0     81.0                    Toy Story           7.7   \n",
       "1      262797249.0    104.0                      Jumanji           6.9   \n",
       "2              0.0    101.0             Grumpier Old Men           6.5   \n",
       "3       81452156.0    127.0            Waiting to Exhale           6.1   \n",
       "4       76578911.0    106.0  Father of the Bride Part II           5.7   \n",
       "...            ...      ...                          ...           ...   \n",
       "45341          0.0    104.0                   Robin Hood           5.7   \n",
       "45342          0.0    360.0          Century of Birthing           9.0   \n",
       "45343          0.0     90.0                     Betrayal           3.8   \n",
       "45344          0.0     87.0             Satan Triumphant           0.0   \n",
       "45345          0.0     75.0                     Queerama           0.0   \n",
       "\n",
       "       release_year     return                 collection_name  \\\n",
       "0              1995  12.451801            Toy Story Collection   \n",
       "1              1995   4.043035                             NaN   \n",
       "2              1995   0.000000       Grumpy Old Men Collection   \n",
       "3              1995   5.090760                             NaN   \n",
       "4              1995   0.000000  Father of the Bride Collection   \n",
       "...             ...        ...                             ...   \n",
       "45341          1991   0.000000                             NaN   \n",
       "45342          2011   0.000000                             NaN   \n",
       "45343          2003   0.000000                             NaN   \n",
       "45344          1917   0.000000                             NaN   \n",
       "45345          2017   0.000000                             NaN   \n",
       "\n",
       "                              genres_name slang_isocode  \\\n",
       "0       ['Animation', 'Comedy', 'Family']        ['en']   \n",
       "1      ['Adventure', 'Fantasy', 'Family']  ['en', 'fr']   \n",
       "2                   ['Romance', 'Comedy']        ['en']   \n",
       "3          ['Comedy', 'Drama', 'Romance']        ['en']   \n",
       "4                              ['Comedy']        ['en']   \n",
       "...                                   ...           ...   \n",
       "45341      ['Drama', 'Action', 'Romance']        ['en']   \n",
       "45342                           ['Drama']        ['tl']   \n",
       "45343     ['Action', 'Drama', 'Thriller']        ['en']   \n",
       "45344                                  []            []   \n",
       "45345                                  []        ['en']   \n",
       "\n",
       "                                           pcompany_name  \\\n",
       "0                            ['Pixar Animation Studios']   \n",
       "1      ['TriStar Pictures', 'Teitler Film', 'Intersco...   \n",
       "2                     ['Warner Bros.', 'Lancaster Gate']   \n",
       "3             ['Twentieth Century Fox Film Corporation']   \n",
       "4       ['Sandollar Productions', 'Touchstone Pictures']   \n",
       "...                                                  ...   \n",
       "45341  ['Westdeutscher Rundfunk (WDR)', 'Working Titl...   \n",
       "45342                                    ['Sine Olivia']   \n",
       "45343                        ['American World Pictures']   \n",
       "45344                                      ['Yermoliev']   \n",
       "45345                                                 []   \n",
       "\n",
       "                                           pcountry_name  \n",
       "0                           ['United States of America']  \n",
       "1                           ['United States of America']  \n",
       "2                           ['United States of America']  \n",
       "3                           ['United States of America']  \n",
       "4                           ['United States of America']  \n",
       "...                                                  ...  \n",
       "45341  ['Canada', 'Germany', 'United Kingdom', 'Unite...  \n",
       "45342                                    ['Philippines']  \n",
       "45343                       ['United States of America']  \n",
       "45344                                         ['Russia']  \n",
       "45345                                 ['United Kingdom']  \n",
       "\n",
       "[45346 rows x 16 columns]"
      ]
     },
     "execution_count": 25,
     "metadata": {},
     "output_type": "execute_result"
    }
   ],
   "source": [
    "df"
   ]
  },
  {
   "attachments": {},
   "cell_type": "markdown",
   "metadata": {},
   "source": [
    "API 1"
   ]
  },
  {
   "cell_type": "code",
   "execution_count": 31,
   "metadata": {},
   "outputs": [],
   "source": [
    "def peliculas_mes(mes):\n",
    "    fechas=pd.to_datetime(df['release_date'],format='%Y-%m-%d')\n",
    "    nmes=fechas[fechas.dt.month_name(locale='es_CO')==mes.capitalize()]\n",
    "    respuesta=nmes.shape[0]\n",
    "    return {'mes':mes, 'cantidad':respuesta}"
   ]
  },
  {
   "cell_type": "code",
   "execution_count": 32,
   "metadata": {},
   "outputs": [
    {
     "data": {
      "text/plain": [
       "{'mes': 'marzo', 'cantidad': 3549}"
      ]
     },
     "execution_count": 32,
     "metadata": {},
     "output_type": "execute_result"
    }
   ],
   "source": [
    "peliculas_mes('marzo')"
   ]
  },
  {
   "attachments": {},
   "cell_type": "markdown",
   "metadata": {},
   "source": [
    "API 2"
   ]
  },
  {
   "cell_type": "code",
   "execution_count": 33,
   "metadata": {},
   "outputs": [],
   "source": [
    "def peliculas_dia(dia):\n",
    "    fechas=pd.to_datetime(df['release_date'],format='%Y-%m-%d')\n",
    "    ndia=fechas[fechas.dt.day_name(locale='es_CO')==dia.capitalize()]\n",
    "    respuesta=ndia.shape[0]\n",
    "    return {'dia':dia, 'cantidad':respuesta}"
   ]
  },
  {
   "cell_type": "code",
   "execution_count": 34,
   "metadata": {},
   "outputs": [
    {
     "data": {
      "text/plain": [
       "{'dia': 'lunes', 'cantidad': 3500}"
      ]
     },
     "execution_count": 34,
     "metadata": {},
     "output_type": "execute_result"
    }
   ],
   "source": [
    "peliculas_dia('lunes')"
   ]
  },
  {
   "cell_type": "code",
   "execution_count": 35,
   "metadata": {},
   "outputs": [
    {
     "data": {
      "text/plain": [
       "{'dia': 'sábado', 'cantidad': 5149}"
      ]
     },
     "execution_count": 35,
     "metadata": {},
     "output_type": "execute_result"
    }
   ],
   "source": [
    "peliculas_dia('sábado')"
   ]
  },
  {
   "attachments": {},
   "cell_type": "markdown",
   "metadata": {},
   "source": [
    "API 3"
   ]
  },
  {
   "cell_type": "code",
   "execution_count": 36,
   "metadata": {},
   "outputs": [],
   "source": [
    "def franquicia(franquicia):\n",
    "    f_low=franquicia.lower()\n",
    "    fran=df[['collection_name','revenue']].dropna(subset=['collection_name'])\n",
    "    fran=fran[fran['collection_name'].map(str.lower).apply(lambda x: f_low in x)]\n",
    "    cantidad=fran.shape[0]\n",
    "    gananciat=fran['revenue'].sum()\n",
    "    gananciap=fran['revenue'].mean()\n",
    "    return {'franquicia':franquicia, 'cantidad':cantidad, 'ganancia_total':gananciat, 'ganancia_promedio':gananciap}"
   ]
  },
  {
   "cell_type": "code",
   "execution_count": 37,
   "metadata": {},
   "outputs": [
    {
     "data": {
      "text/plain": [
       "{'franquicia': 'toy story collection',\n",
       " 'cantidad': 3,\n",
       " 'ganancia_total': 1937890605.0,\n",
       " 'ganancia_promedio': 645963535.0}"
      ]
     },
     "execution_count": 37,
     "metadata": {},
     "output_type": "execute_result"
    }
   ],
   "source": [
    "franquicia('toy story collection')"
   ]
  },
  {
   "attachments": {},
   "cell_type": "markdown",
   "metadata": {},
   "source": [
    "API 4"
   ]
  },
  {
   "cell_type": "code",
   "execution_count": 38,
   "metadata": {},
   "outputs": [],
   "source": [
    "def peliculas_pais(pais):\n",
    "    p_low=pais.lower()\n",
    "    cantidad = df['pcountry_name'].map(str.lower).apply(lambda x: p_low in x).sum()\n",
    "    return {'pais': pais, 'cantidad': cantidad}"
   ]
  },
  {
   "cell_type": "code",
   "execution_count": 39,
   "metadata": {},
   "outputs": [
    {
     "data": {
      "text/plain": [
       "{'pais': 'colombia', 'cantidad': 34}"
      ]
     },
     "execution_count": 39,
     "metadata": {},
     "output_type": "execute_result"
    }
   ],
   "source": [
    "peliculas_pais('colombia')"
   ]
  },
  {
   "attachments": {},
   "cell_type": "markdown",
   "metadata": {},
   "source": [
    "API 5"
   ]
  },
  {
   "cell_type": "code",
   "execution_count": 40,
   "metadata": {},
   "outputs": [],
   "source": [
    "def productoras(productora):\n",
    "    pprod=df[['pcompany_name','revenue']].dropna()\n",
    "    pprod['pcompany_name']=pprod['pcompany_name'].map(str.lower)\n",
    "    pprod=pprod[pprod.pcompany_name.str.contains(productora.lower(), regex=False)]\n",
    "    cantidad=pprod.shape[0]\n",
    "    gtotal=pprod['revenue'].sum()\n",
    "    return {'productora':productora, 'ganancia_total':gtotal, 'cantidad':cantidad}"
   ]
  },
  {
   "cell_type": "code",
   "execution_count": 41,
   "metadata": {},
   "outputs": [
    {
     "data": {
      "text/plain": [
       "{'productora': 'Warner Bros.',\n",
       " 'ganancia_total': 67156995259.0,\n",
       " 'cantidad': 1374}"
      ]
     },
     "execution_count": 41,
     "metadata": {},
     "output_type": "execute_result"
    }
   ],
   "source": [
    "productoras('Warner Bros.')"
   ]
  },
  {
   "attachments": {},
   "cell_type": "markdown",
   "metadata": {},
   "source": [
    "API 6"
   ]
  },
  {
   "cell_type": "code",
   "execution_count": 42,
   "metadata": {},
   "outputs": [],
   "source": [
    "def retorno(pelicula):\n",
    "    ppeli=df[['title','budget','revenue','return','release_year']].dropna()\n",
    "    ppeli['title']=ppeli['title'].map(str.lower)\n",
    "    ppeli=ppeli[ppeli['title']==str(pelicula).lower()]\n",
    "    inver=ppeli['budget'].iloc[0]\n",
    "    gan=ppeli['revenue'].iloc[0]\n",
    "    ret=ppeli['return'].iloc[0]\n",
    "    an=ppeli['release_year'].iloc[0]\n",
    "    return {'pelicula':pelicula, 'inversion':inver, 'ganacia':gan,'retorno':ret, 'anio':an}"
   ]
  },
  {
   "cell_type": "code",
   "execution_count": 44,
   "metadata": {},
   "outputs": [
    {
     "data": {
      "text/plain": [
       "{'pelicula': 'sabrina',\n",
       " 'inversion': 58000000.0,\n",
       " 'ganacia': 0.0,\n",
       " 'retorno': 0.0,\n",
       " 'anio': 1995}"
      ]
     },
     "execution_count": 44,
     "metadata": {},
     "output_type": "execute_result"
    }
   ],
   "source": [
    "retorno('sabrina')"
   ]
  },
  {
   "attachments": {},
   "cell_type": "markdown",
   "metadata": {},
   "source": [
    "API 7 - SISTEMA DE RECOMENDACION"
   ]
  }
 ],
 "metadata": {
  "kernelspec": {
   "display_name": "Python 3",
   "language": "python",
   "name": "python3"
  },
  "language_info": {
   "codemirror_mode": {
    "name": "ipython",
    "version": 3
   },
   "file_extension": ".py",
   "mimetype": "text/x-python",
   "name": "python",
   "nbconvert_exporter": "python",
   "pygments_lexer": "ipython3",
   "version": "3.11.3"
  },
  "orig_nbformat": 4
 },
 "nbformat": 4,
 "nbformat_minor": 2
}
